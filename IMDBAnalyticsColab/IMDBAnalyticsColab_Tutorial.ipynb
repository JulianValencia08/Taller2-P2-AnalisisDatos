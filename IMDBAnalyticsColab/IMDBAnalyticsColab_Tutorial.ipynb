{
  "nbformat": 4,
  "nbformat_minor": 0,
  "metadata": {
    "colab": {
      "provenance": [],
      "authorship_tag": "ABX9TyO9TEubsI8w3nl9aBMgr9z+",
      "include_colab_link": true
    },
    "kernelspec": {
      "name": "python3",
      "display_name": "Python 3"
    },
    "language_info": {
      "name": "python"
    }
  },
  "cells": [
    {
      "cell_type": "markdown",
      "metadata": {
        "id": "view-in-github",
        "colab_type": "text"
      },
      "source": [
        "<a href=\"https://colab.research.google.com/github/jdmartinev/IMDBAnalytics/blob/main/IMDBAnalyticsColab/IMDBAnalyticsColab_Tutorial.ipynb\" target=\"_parent\"><img src=\"https://colab.research.google.com/assets/colab-badge.svg\" alt=\"Open In Colab\"/></a>"
      ]
    },
    {
      "cell_type": "markdown",
      "source": [
        "# Tutorial\n",
        "\n",
        "En este tutorial, analizará una base de datos de películas *IMDb Movies dataset* para aprender conceptos y procedimientos básicos utilizados en el análisis de datos. Al final, usted tendrá la capacidad de:\n",
        "\n",
        "-  Importar y explorar datos\n",
        "-  Realizar limpieza de datos\n",
        "-  Utilizar Pandas/Plotly para crear histogramas que le permitan analizar la distribución de los datos\n",
        "-  Creargráficos de líneas y de barras (_line charts_ & _bar charts_) para visualizar datos\n",
        "-  Utilizar Pandas y Plotly para crear gráficas de dispersión (_scatter plots_) para realizar análisis de correlación\n"
      ],
      "metadata": {
        "id": "aaoFwkr4n_eF"
      }
    },
    {
      "cell_type": "markdown",
      "source": [
        "## Descarga de datos\n",
        "\n",
        "Lo primero que hará será descargar los datos con los que va a trabajar:\n",
        "\n",
        "- Tabla de películas (archivo csv).\n",
        "- _Shapefile_ (archivo .shp y archivos auxiliares) con la información necesaria para graficar mapas. De forma resumida, este archivo almacena información geométrica en forma de líneas o polígonos. En este caso partícular, el _shapefile_ tendrá la geometría de los países que nos servirá para pintar en el mapa datos relevantes extraídos de la información contenida en la base de datos de películas.  \n",
        "\n",
        "Estos archivos quedarán en la carpeta _/content/IMDBAnalyticsData/_ asociada con el sistema operativo del servidor en el que se está ejecutando google colab.\n"
      ],
      "metadata": {
        "id": "_hzf1d7JpfrX"
      }
    },
    {
      "cell_type": "code",
      "source": [
        "!wget --no-check-certificate 'https://docs.google.com/uc?export=download&id=1osH_xhTCW4Qh7f00VU_UaRK5whEXe8dr' -O data\n",
        "!unzip \"/content/data\" -d \"/content/IMDBAnalyticsData/\""
      ],
      "metadata": {
        "colab": {
          "base_uri": "https://localhost:8080/"
        },
        "id": "TeLGFIUQsOdZ",
        "outputId": "5d229ec8-a3c7-4535-cbe7-fd262817d1dc"
      },
      "execution_count": 1,
      "outputs": [
        {
          "output_type": "stream",
          "name": "stdout",
          "text": [
            "--2023-03-01 15:05:36--  https://docs.google.com/uc?export=download&id=1osH_xhTCW4Qh7f00VU_UaRK5whEXe8dr\n",
            "Resolving docs.google.com (docs.google.com)... 142.250.1.139, 142.250.1.100, 142.250.1.101, ...\n",
            "Connecting to docs.google.com (docs.google.com)|142.250.1.139|:443... connected.\n",
            "HTTP request sent, awaiting response... 303 See Other\n",
            "Location: https://doc-14-6c-docs.googleusercontent.com/docs/securesc/ha0ro937gcuc7l7deffksulhg5h7mbp1/rh15v2dcf47o9bvqnpiajprv7h9pqfh6/1677683100000/15315348669826032119/*/1osH_xhTCW4Qh7f00VU_UaRK5whEXe8dr?e=download&uuid=6ccaae5d-e798-4cfa-be61-16ab5e421bb6 [following]\n",
            "Warning: wildcards not supported in HTTP.\n",
            "--2023-03-01 15:05:41--  https://doc-14-6c-docs.googleusercontent.com/docs/securesc/ha0ro937gcuc7l7deffksulhg5h7mbp1/rh15v2dcf47o9bvqnpiajprv7h9pqfh6/1677683100000/15315348669826032119/*/1osH_xhTCW4Qh7f00VU_UaRK5whEXe8dr?e=download&uuid=6ccaae5d-e798-4cfa-be61-16ab5e421bb6\n",
            "Resolving doc-14-6c-docs.googleusercontent.com (doc-14-6c-docs.googleusercontent.com)... 64.233.182.132, 2607:f8b0:4001:c0a::84\n",
            "Connecting to doc-14-6c-docs.googleusercontent.com (doc-14-6c-docs.googleusercontent.com)|64.233.182.132|:443... connected.\n",
            "HTTP request sent, awaiting response... 200 OK\n",
            "Length: 5477009 (5.2M) [application/x-zip-compressed]\n",
            "Saving to: ‘data’\n",
            "\n",
            "data                100%[===================>]   5.22M  5.35MB/s    in 1.0s    \n",
            "\n",
            "2023-03-01 15:05:43 (5.35 MB/s) - ‘data’ saved [5477009/5477009]\n",
            "\n",
            "Archive:  /content/data\n",
            "  inflating: /content/IMDBAnalyticsData/Data/Map/ne_10m_admin_0_countries.cpg  \n",
            "  inflating: /content/IMDBAnalyticsData/Data/Map/ne_10m_admin_0_countries.prj  \n",
            "  inflating: /content/IMDBAnalyticsData/Data/Map/ne_10m_admin_0_countries.VERSION.txt  \n",
            "  inflating: /content/IMDBAnalyticsData/Data/Map/ne_10m_admin_0_countries.README.html  \n",
            "  inflating: /content/IMDBAnalyticsData/Data/Map/ne_10m_admin_0_countries.shx  \n",
            "  inflating: /content/IMDBAnalyticsData/Data/Map/ne_10m_admin_0_countries.dbf  \n",
            "  inflating: /content/IMDBAnalyticsData/Data/Map/ne_10m_admin_0_countries.shp  \n",
            "  inflating: /content/IMDBAnalyticsData/Data/movie_metadata.csv  \n"
          ]
        }
      ]
    },
    {
      "cell_type": "markdown",
      "source": [
        "### Importar las librerías necesarias\n",
        "\n",
        "Importe las librerías que le servirán para el procesamiento y visualización de datos. La libreia _geopandas_, que sirve para el procesamiento de archivos con información geográfica (_shapefiles_) no está instalada por defecto en el ambiente de google colab. Por esta razón, debe instalarla"
      ],
      "metadata": {
        "id": "8FgflsjGscqg"
      }
    },
    {
      "cell_type": "code",
      "source": [
        "!pip install geopandas"
      ],
      "metadata": {
        "colab": {
          "base_uri": "https://localhost:8080/"
        },
        "id": "LyiSFCGUtIaK",
        "outputId": "f4e5c035-2a3b-4bf1-8caa-908f1e2d65e6"
      },
      "execution_count": 2,
      "outputs": [
        {
          "output_type": "stream",
          "name": "stdout",
          "text": [
            "Looking in indexes: https://pypi.org/simple, https://us-python.pkg.dev/colab-wheels/public/simple/\n",
            "Collecting geopandas\n",
            "  Downloading geopandas-0.12.2-py3-none-any.whl (1.1 MB)\n",
            "\u001b[2K     \u001b[90m━━━━━━━━━━━━━━━━━━━━━━━━━━━━━━━━━━━━━━━━\u001b[0m \u001b[32m1.1/1.1 MB\u001b[0m \u001b[31m16.1 MB/s\u001b[0m eta \u001b[36m0:00:00\u001b[0m\n",
            "\u001b[?25hRequirement already satisfied: shapely>=1.7 in /usr/local/lib/python3.8/dist-packages (from geopandas) (2.0.1)\n",
            "Collecting pyproj>=2.6.1.post1\n",
            "  Downloading pyproj-3.4.1-cp38-cp38-manylinux_2_17_x86_64.manylinux2014_x86_64.whl (7.8 MB)\n",
            "\u001b[2K     \u001b[90m━━━━━━━━━━━━━━━━━━━━━━━━━━━━━━━━━━━━━━━━\u001b[0m \u001b[32m7.8/7.8 MB\u001b[0m \u001b[31m81.1 MB/s\u001b[0m eta \u001b[36m0:00:00\u001b[0m\n",
            "\u001b[?25hCollecting fiona>=1.8\n",
            "  Downloading Fiona-1.9.1-cp38-cp38-manylinux_2_17_x86_64.manylinux2014_x86_64.whl (16.0 MB)\n",
            "\u001b[2K     \u001b[90m━━━━━━━━━━━━━━━━━━━━━━━━━━━━━━━━━━━━━━━━\u001b[0m \u001b[32m16.0/16.0 MB\u001b[0m \u001b[31m68.7 MB/s\u001b[0m eta \u001b[36m0:00:00\u001b[0m\n",
            "\u001b[?25hRequirement already satisfied: packaging in /usr/local/lib/python3.8/dist-packages (from geopandas) (23.0)\n",
            "Requirement already satisfied: pandas>=1.0.0 in /usr/local/lib/python3.8/dist-packages (from geopandas) (1.3.5)\n",
            "Requirement already satisfied: attrs>=19.2.0 in /usr/local/lib/python3.8/dist-packages (from fiona>=1.8->geopandas) (22.2.0)\n",
            "Collecting cligj>=0.5\n",
            "  Downloading cligj-0.7.2-py3-none-any.whl (7.1 kB)\n",
            "Requirement already satisfied: setuptools in /usr/local/lib/python3.8/dist-packages (from fiona>=1.8->geopandas) (57.4.0)\n",
            "Requirement already satisfied: certifi in /usr/local/lib/python3.8/dist-packages (from fiona>=1.8->geopandas) (2022.12.7)\n",
            "Collecting munch>=2.3.2\n",
            "  Downloading munch-2.5.0-py2.py3-none-any.whl (10 kB)\n",
            "Requirement already satisfied: click~=8.0 in /usr/local/lib/python3.8/dist-packages (from fiona>=1.8->geopandas) (8.1.3)\n",
            "Collecting click-plugins>=1.0\n",
            "  Downloading click_plugins-1.1.1-py2.py3-none-any.whl (7.5 kB)\n",
            "Requirement already satisfied: numpy>=1.17.3 in /usr/local/lib/python3.8/dist-packages (from pandas>=1.0.0->geopandas) (1.22.4)\n",
            "Requirement already satisfied: pytz>=2017.3 in /usr/local/lib/python3.8/dist-packages (from pandas>=1.0.0->geopandas) (2022.7.1)\n",
            "Requirement already satisfied: python-dateutil>=2.7.3 in /usr/local/lib/python3.8/dist-packages (from pandas>=1.0.0->geopandas) (2.8.2)\n",
            "Requirement already satisfied: six in /usr/local/lib/python3.8/dist-packages (from munch>=2.3.2->fiona>=1.8->geopandas) (1.15.0)\n",
            "Installing collected packages: pyproj, munch, cligj, click-plugins, fiona, geopandas\n",
            "Successfully installed click-plugins-1.1.1 cligj-0.7.2 fiona-1.9.1 geopandas-0.12.2 munch-2.5.0 pyproj-3.4.1\n"
          ]
        }
      ]
    },
    {
      "cell_type": "code",
      "execution_count": 3,
      "metadata": {
        "id": "0ytEOPM2BqZg"
      },
      "outputs": [],
      "source": [
        "import pandas as pd\n",
        "import geopandas as gpd\n",
        "import numpy as np\n",
        "import plotly.express as px"
      ]
    },
    {
      "cell_type": "markdown",
      "source": [
        "## **1. Procesamiento básico**\n",
        "\n",
        "En este primer paso, cargará la base de datos (archivo .csv) a un _dataframe_ de pandas y utilizará algunas funciones de la librería que le ayudarán a tener información básica de los datos. De forma resumida, un _dataframe_ de pandas es una estructura de datos bidimensional en la que los datos se organizan en filas y columnas. Es similar a una hoja de cálculo en Excel, donde cada columna representa una variable y cada fila representa una observación.\n",
        "\n"
      ],
      "metadata": {
        "id": "HFGheSl0t6az"
      }
    },
    {
      "cell_type": "code",
      "source": [
        "df = pd.read_csv('IMDBAnalyticsData/Data/movie_metadata.csv') #Cargar el archivo csv al dataframe df\n",
        "df.head(5) #Mostrar las primeras 5 filas de la tabla "
      ],
      "metadata": {
        "colab": {
          "base_uri": "https://localhost:8080/",
          "height": 352
        },
        "id": "ljP8tX71vOIV",
        "outputId": "0e1d6460-d345-4914-b39e-8a5ab126c416"
      },
      "execution_count": 4,
      "outputs": [
        {
          "output_type": "execute_result",
          "data": {
            "text/plain": [
              "   color      director_name  num_critic_for_reviews  duration  \\\n",
              "0  Color      James Cameron                   723.0     178.0   \n",
              "1  Color     Gore Verbinski                   302.0     169.0   \n",
              "2  Color         Sam Mendes                   602.0     148.0   \n",
              "3  Color  Christopher Nolan                   813.0     164.0   \n",
              "4    NaN        Doug Walker                     NaN       NaN   \n",
              "\n",
              "   director_facebook_likes  actor_3_facebook_likes      actor_2_name  \\\n",
              "0                      0.0                   855.0  Joel David Moore   \n",
              "1                    563.0                  1000.0     Orlando Bloom   \n",
              "2                      0.0                   161.0      Rory Kinnear   \n",
              "3                  22000.0                 23000.0    Christian Bale   \n",
              "4                    131.0                     NaN        Rob Walker   \n",
              "\n",
              "   actor_1_facebook_likes        gross                           genres  ...  \\\n",
              "0                  1000.0  760505847.0  Action|Adventure|Fantasy|Sci-Fi  ...   \n",
              "1                 40000.0  309404152.0         Action|Adventure|Fantasy  ...   \n",
              "2                 11000.0  200074175.0        Action|Adventure|Thriller  ...   \n",
              "3                 27000.0  448130642.0                  Action|Thriller  ...   \n",
              "4                   131.0          NaN                      Documentary  ...   \n",
              "\n",
              "  num_user_for_reviews language  country  content_rating       budget  \\\n",
              "0               3054.0  English      USA           PG-13  237000000.0   \n",
              "1               1238.0  English      USA           PG-13  300000000.0   \n",
              "2                994.0  English       UK           PG-13  245000000.0   \n",
              "3               2701.0  English      USA           PG-13  250000000.0   \n",
              "4                  NaN      NaN      NaN             NaN          NaN   \n",
              "\n",
              "   title_year actor_2_facebook_likes imdb_score  aspect_ratio  \\\n",
              "0      2009.0                  936.0        7.9          1.78   \n",
              "1      2007.0                 5000.0        7.1          2.35   \n",
              "2      2015.0                  393.0        6.8          2.35   \n",
              "3      2012.0                23000.0        8.5          2.35   \n",
              "4         NaN                   12.0        7.1           NaN   \n",
              "\n",
              "  movie_facebook_likes  \n",
              "0                33000  \n",
              "1                    0  \n",
              "2                85000  \n",
              "3               164000  \n",
              "4                    0  \n",
              "\n",
              "[5 rows x 28 columns]"
            ],
            "text/html": [
              "\n",
              "  <div id=\"df-f4e75d68-9d66-4bf3-a58c-9b2d175764ee\">\n",
              "    <div class=\"colab-df-container\">\n",
              "      <div>\n",
              "<style scoped>\n",
              "    .dataframe tbody tr th:only-of-type {\n",
              "        vertical-align: middle;\n",
              "    }\n",
              "\n",
              "    .dataframe tbody tr th {\n",
              "        vertical-align: top;\n",
              "    }\n",
              "\n",
              "    .dataframe thead th {\n",
              "        text-align: right;\n",
              "    }\n",
              "</style>\n",
              "<table border=\"1\" class=\"dataframe\">\n",
              "  <thead>\n",
              "    <tr style=\"text-align: right;\">\n",
              "      <th></th>\n",
              "      <th>color</th>\n",
              "      <th>director_name</th>\n",
              "      <th>num_critic_for_reviews</th>\n",
              "      <th>duration</th>\n",
              "      <th>director_facebook_likes</th>\n",
              "      <th>actor_3_facebook_likes</th>\n",
              "      <th>actor_2_name</th>\n",
              "      <th>actor_1_facebook_likes</th>\n",
              "      <th>gross</th>\n",
              "      <th>genres</th>\n",
              "      <th>...</th>\n",
              "      <th>num_user_for_reviews</th>\n",
              "      <th>language</th>\n",
              "      <th>country</th>\n",
              "      <th>content_rating</th>\n",
              "      <th>budget</th>\n",
              "      <th>title_year</th>\n",
              "      <th>actor_2_facebook_likes</th>\n",
              "      <th>imdb_score</th>\n",
              "      <th>aspect_ratio</th>\n",
              "      <th>movie_facebook_likes</th>\n",
              "    </tr>\n",
              "  </thead>\n",
              "  <tbody>\n",
              "    <tr>\n",
              "      <th>0</th>\n",
              "      <td>Color</td>\n",
              "      <td>James Cameron</td>\n",
              "      <td>723.0</td>\n",
              "      <td>178.0</td>\n",
              "      <td>0.0</td>\n",
              "      <td>855.0</td>\n",
              "      <td>Joel David Moore</td>\n",
              "      <td>1000.0</td>\n",
              "      <td>760505847.0</td>\n",
              "      <td>Action|Adventure|Fantasy|Sci-Fi</td>\n",
              "      <td>...</td>\n",
              "      <td>3054.0</td>\n",
              "      <td>English</td>\n",
              "      <td>USA</td>\n",
              "      <td>PG-13</td>\n",
              "      <td>237000000.0</td>\n",
              "      <td>2009.0</td>\n",
              "      <td>936.0</td>\n",
              "      <td>7.9</td>\n",
              "      <td>1.78</td>\n",
              "      <td>33000</td>\n",
              "    </tr>\n",
              "    <tr>\n",
              "      <th>1</th>\n",
              "      <td>Color</td>\n",
              "      <td>Gore Verbinski</td>\n",
              "      <td>302.0</td>\n",
              "      <td>169.0</td>\n",
              "      <td>563.0</td>\n",
              "      <td>1000.0</td>\n",
              "      <td>Orlando Bloom</td>\n",
              "      <td>40000.0</td>\n",
              "      <td>309404152.0</td>\n",
              "      <td>Action|Adventure|Fantasy</td>\n",
              "      <td>...</td>\n",
              "      <td>1238.0</td>\n",
              "      <td>English</td>\n",
              "      <td>USA</td>\n",
              "      <td>PG-13</td>\n",
              "      <td>300000000.0</td>\n",
              "      <td>2007.0</td>\n",
              "      <td>5000.0</td>\n",
              "      <td>7.1</td>\n",
              "      <td>2.35</td>\n",
              "      <td>0</td>\n",
              "    </tr>\n",
              "    <tr>\n",
              "      <th>2</th>\n",
              "      <td>Color</td>\n",
              "      <td>Sam Mendes</td>\n",
              "      <td>602.0</td>\n",
              "      <td>148.0</td>\n",
              "      <td>0.0</td>\n",
              "      <td>161.0</td>\n",
              "      <td>Rory Kinnear</td>\n",
              "      <td>11000.0</td>\n",
              "      <td>200074175.0</td>\n",
              "      <td>Action|Adventure|Thriller</td>\n",
              "      <td>...</td>\n",
              "      <td>994.0</td>\n",
              "      <td>English</td>\n",
              "      <td>UK</td>\n",
              "      <td>PG-13</td>\n",
              "      <td>245000000.0</td>\n",
              "      <td>2015.0</td>\n",
              "      <td>393.0</td>\n",
              "      <td>6.8</td>\n",
              "      <td>2.35</td>\n",
              "      <td>85000</td>\n",
              "    </tr>\n",
              "    <tr>\n",
              "      <th>3</th>\n",
              "      <td>Color</td>\n",
              "      <td>Christopher Nolan</td>\n",
              "      <td>813.0</td>\n",
              "      <td>164.0</td>\n",
              "      <td>22000.0</td>\n",
              "      <td>23000.0</td>\n",
              "      <td>Christian Bale</td>\n",
              "      <td>27000.0</td>\n",
              "      <td>448130642.0</td>\n",
              "      <td>Action|Thriller</td>\n",
              "      <td>...</td>\n",
              "      <td>2701.0</td>\n",
              "      <td>English</td>\n",
              "      <td>USA</td>\n",
              "      <td>PG-13</td>\n",
              "      <td>250000000.0</td>\n",
              "      <td>2012.0</td>\n",
              "      <td>23000.0</td>\n",
              "      <td>8.5</td>\n",
              "      <td>2.35</td>\n",
              "      <td>164000</td>\n",
              "    </tr>\n",
              "    <tr>\n",
              "      <th>4</th>\n",
              "      <td>NaN</td>\n",
              "      <td>Doug Walker</td>\n",
              "      <td>NaN</td>\n",
              "      <td>NaN</td>\n",
              "      <td>131.0</td>\n",
              "      <td>NaN</td>\n",
              "      <td>Rob Walker</td>\n",
              "      <td>131.0</td>\n",
              "      <td>NaN</td>\n",
              "      <td>Documentary</td>\n",
              "      <td>...</td>\n",
              "      <td>NaN</td>\n",
              "      <td>NaN</td>\n",
              "      <td>NaN</td>\n",
              "      <td>NaN</td>\n",
              "      <td>NaN</td>\n",
              "      <td>NaN</td>\n",
              "      <td>12.0</td>\n",
              "      <td>7.1</td>\n",
              "      <td>NaN</td>\n",
              "      <td>0</td>\n",
              "    </tr>\n",
              "  </tbody>\n",
              "</table>\n",
              "<p>5 rows × 28 columns</p>\n",
              "</div>\n",
              "      <button class=\"colab-df-convert\" onclick=\"convertToInteractive('df-f4e75d68-9d66-4bf3-a58c-9b2d175764ee')\"\n",
              "              title=\"Convert this dataframe to an interactive table.\"\n",
              "              style=\"display:none;\">\n",
              "        \n",
              "  <svg xmlns=\"http://www.w3.org/2000/svg\" height=\"24px\"viewBox=\"0 0 24 24\"\n",
              "       width=\"24px\">\n",
              "    <path d=\"M0 0h24v24H0V0z\" fill=\"none\"/>\n",
              "    <path d=\"M18.56 5.44l.94 2.06.94-2.06 2.06-.94-2.06-.94-.94-2.06-.94 2.06-2.06.94zm-11 1L8.5 8.5l.94-2.06 2.06-.94-2.06-.94L8.5 2.5l-.94 2.06-2.06.94zm10 10l.94 2.06.94-2.06 2.06-.94-2.06-.94-.94-2.06-.94 2.06-2.06.94z\"/><path d=\"M17.41 7.96l-1.37-1.37c-.4-.4-.92-.59-1.43-.59-.52 0-1.04.2-1.43.59L10.3 9.45l-7.72 7.72c-.78.78-.78 2.05 0 2.83L4 21.41c.39.39.9.59 1.41.59.51 0 1.02-.2 1.41-.59l7.78-7.78 2.81-2.81c.8-.78.8-2.07 0-2.86zM5.41 20L4 18.59l7.72-7.72 1.47 1.35L5.41 20z\"/>\n",
              "  </svg>\n",
              "      </button>\n",
              "      \n",
              "  <style>\n",
              "    .colab-df-container {\n",
              "      display:flex;\n",
              "      flex-wrap:wrap;\n",
              "      gap: 12px;\n",
              "    }\n",
              "\n",
              "    .colab-df-convert {\n",
              "      background-color: #E8F0FE;\n",
              "      border: none;\n",
              "      border-radius: 50%;\n",
              "      cursor: pointer;\n",
              "      display: none;\n",
              "      fill: #1967D2;\n",
              "      height: 32px;\n",
              "      padding: 0 0 0 0;\n",
              "      width: 32px;\n",
              "    }\n",
              "\n",
              "    .colab-df-convert:hover {\n",
              "      background-color: #E2EBFA;\n",
              "      box-shadow: 0px 1px 2px rgba(60, 64, 67, 0.3), 0px 1px 3px 1px rgba(60, 64, 67, 0.15);\n",
              "      fill: #174EA6;\n",
              "    }\n",
              "\n",
              "    [theme=dark] .colab-df-convert {\n",
              "      background-color: #3B4455;\n",
              "      fill: #D2E3FC;\n",
              "    }\n",
              "\n",
              "    [theme=dark] .colab-df-convert:hover {\n",
              "      background-color: #434B5C;\n",
              "      box-shadow: 0px 1px 3px 1px rgba(0, 0, 0, 0.15);\n",
              "      filter: drop-shadow(0px 1px 2px rgba(0, 0, 0, 0.3));\n",
              "      fill: #FFFFFF;\n",
              "    }\n",
              "  </style>\n",
              "\n",
              "      <script>\n",
              "        const buttonEl =\n",
              "          document.querySelector('#df-f4e75d68-9d66-4bf3-a58c-9b2d175764ee button.colab-df-convert');\n",
              "        buttonEl.style.display =\n",
              "          google.colab.kernel.accessAllowed ? 'block' : 'none';\n",
              "\n",
              "        async function convertToInteractive(key) {\n",
              "          const element = document.querySelector('#df-f4e75d68-9d66-4bf3-a58c-9b2d175764ee');\n",
              "          const dataTable =\n",
              "            await google.colab.kernel.invokeFunction('convertToInteractive',\n",
              "                                                     [key], {});\n",
              "          if (!dataTable) return;\n",
              "\n",
              "          const docLinkHtml = 'Like what you see? Visit the ' +\n",
              "            '<a target=\"_blank\" href=https://colab.research.google.com/notebooks/data_table.ipynb>data table notebook</a>'\n",
              "            + ' to learn more about interactive tables.';\n",
              "          element.innerHTML = '';\n",
              "          dataTable['output_type'] = 'display_data';\n",
              "          await google.colab.output.renderOutput(dataTable, element);\n",
              "          const docLink = document.createElement('div');\n",
              "          docLink.innerHTML = docLinkHtml;\n",
              "          element.appendChild(docLink);\n",
              "        }\n",
              "      </script>\n",
              "    </div>\n",
              "  </div>\n",
              "  "
            ]
          },
          "metadata": {},
          "execution_count": 4
        }
      ]
    },
    {
      "cell_type": "code",
      "source": [
        "df.shape #Tamaño de la tabla (df.shape[0] es el número de filas y df.shape[1] es el número de columnas)"
      ],
      "metadata": {
        "colab": {
          "base_uri": "https://localhost:8080/"
        },
        "id": "tJ0YtiR9tvAn",
        "outputId": "cae91e11-1f8c-49b4-e878-21a6c1296514"
      },
      "execution_count": 5,
      "outputs": [
        {
          "output_type": "execute_result",
          "data": {
            "text/plain": [
              "(5043, 28)"
            ]
          },
          "metadata": {},
          "execution_count": 5
        }
      ]
    },
    {
      "cell_type": "code",
      "source": [
        "df.dtypes #Muestra el tipo de dato que se almacena en cada columna de la tabla"
      ],
      "metadata": {
        "colab": {
          "base_uri": "https://localhost:8080/"
        },
        "id": "3yRVGT8_v3kH",
        "outputId": "63f87bb1-219a-44f3-bb18-f34625f1130b"
      },
      "execution_count": 7,
      "outputs": [
        {
          "output_type": "execute_result",
          "data": {
            "text/plain": [
              "color                         object\n",
              "director_name                 object\n",
              "num_critic_for_reviews       float64\n",
              "duration                     float64\n",
              "director_facebook_likes      float64\n",
              "actor_3_facebook_likes       float64\n",
              "actor_2_name                  object\n",
              "actor_1_facebook_likes       float64\n",
              "gross                        float64\n",
              "genres                        object\n",
              "actor_1_name                  object\n",
              "movie_title                   object\n",
              "num_voted_users                int64\n",
              "cast_total_facebook_likes      int64\n",
              "actor_3_name                  object\n",
              "facenumber_in_poster         float64\n",
              "plot_keywords                 object\n",
              "movie_imdb_link               object\n",
              "num_user_for_reviews         float64\n",
              "language                      object\n",
              "country                       object\n",
              "content_rating                object\n",
              "budget                       float64\n",
              "title_year                   float64\n",
              "actor_2_facebook_likes       float64\n",
              "imdb_score                   float64\n",
              "aspect_ratio                 float64\n",
              "movie_facebook_likes           int64\n",
              "dtype: object"
            ]
          },
          "metadata": {},
          "execution_count": 7
        }
      ]
    },
    {
      "cell_type": "markdown",
      "source": [
        "Podemos acceder a las filas y columnas del _dataframe_ de las siguientes formas: \n",
        "\n",
        "- Acceder a todas las filas en la columna _director name_\n",
        "```python \n",
        "df[\"director_name\"] \n",
        "df.director_name\n",
        "```\n",
        "La segunda forma solo funciona si el nombre de la columna no tiene espacios\n",
        "\n",
        "- Acceder a unas filas específicas de la columna _director name_\n",
        "```python \n",
        "df.loc[0,\"director_name\"] \n",
        "df.loc[0:10,\"director_name\"]\n",
        "```\n",
        "\n",
        "- Acceder a filas y columnas específicas\n",
        "```python \n",
        "df.loc[0:10,[\"director_name\",\"movie_title\"]]\n",
        "df.iloc[0:10,[0,1]] \n",
        "```\n",
        "El método ```loc``` indexa las columnas por su nombre, mientas que el método ```iloc``` indexa las columnas por su posición."
      ],
      "metadata": {
        "id": "61wE6sIGwJ0q"
      }
    },
    {
      "cell_type": "code",
      "source": [
        "df.loc[0:10,[\"director_name\",\"movie_title\"]]"
      ],
      "metadata": {
        "id": "yRTYolMAxtBK"
      },
      "execution_count": null,
      "outputs": []
    },
    {
      "cell_type": "code",
      "source": [
        "df.iloc[0:10,[0,1]] "
      ],
      "metadata": {
        "id": "ShOvTDy_yDMh"
      },
      "execution_count": null,
      "outputs": []
    },
    {
      "cell_type": "markdown",
      "source": [
        "## **2. Preparación de datos**\n",
        "\n",
        "Remueva algunas columnas que no son importantes para el análisis que se va a realizar.\n",
        "\n",
        "- _movie_imdb_link_\n",
        "- _num_critic_for_reviews_\n",
        "- _genre_\n",
        "\n",
        "El método ```drop``` permite hacer este proceso. El parámetro ```axis = 1``` se utiliza para que elimine información de las columnas, ```columns``` especifica las columnas a remover, e ```inplace = True``` se utiliza para que la modificación hecha se almacene en la varianle ```df``` sin necesidad de hacer una nueva asignación de variables. \n"
      ],
      "metadata": {
        "id": "RfK4TqDMyvmX"
      }
    },
    {
      "cell_type": "code",
      "source": [
        "df.drop(axis = 1, columns = [\"movie_imdb_link\",\"num_critic_for_reviews\"],inplace = True)\n",
        "df.head(5) #Mostrar de nuevo las 5 primeras filas para corroborar que se eliminaron las columnas "
      ],
      "metadata": {
        "id": "gXK7V3ANzFnV"
      },
      "execution_count": null,
      "outputs": []
    },
    {
      "cell_type": "markdown",
      "source": [
        "Ejercicio: Remover la columna faltante"
      ],
      "metadata": {
        "id": "lXRHUbjZ08SP"
      }
    },
    {
      "cell_type": "code",
      "source": [
        "#Código del ejercicio"
      ],
      "metadata": {
        "id": "6QysBaO300bz"
      },
      "execution_count": null,
      "outputs": []
    },
    {
      "cell_type": "markdown",
      "source": [
        "Muestre las columnas como una lista para corroborar que las columnas no deseadas se eliminaron."
      ],
      "metadata": {
        "id": "YvN0CzB31EQW"
      }
    },
    {
      "cell_type": "code",
      "source": [
        "list(df) "
      ],
      "metadata": {
        "id": "8vVvu5Z3z_tK"
      },
      "execution_count": null,
      "outputs": []
    },
    {
      "cell_type": "markdown",
      "source": [
        "Revise de nuevo el tamaño del dataframe. Debe ser diferente al tamaño inicial"
      ],
      "metadata": {
        "id": "f_Ra-KHJ1Vb5"
      }
    },
    {
      "cell_type": "code",
      "source": [
        "df.shape "
      ],
      "metadata": {
        "id": "QpTsVE660EQj"
      },
      "execution_count": null,
      "outputs": []
    },
    {
      "cell_type": "markdown",
      "source": [
        "La columna _title_year_ almacena valores de tipo _float_. Sin embargo, los años se deben manejar como números enteros. Haga esta modificación utilizando el método ```astype```. Este método no permite utilizar el parámetro ```inplace```, por lo que es necesario hacer una re-asignación de la variable _df_."
      ],
      "metadata": {
        "id": "HsjHi_6_2D_M"
      }
    },
    {
      "cell_type": "code",
      "source": [
        "df['title_year'] = df['title_year'].astype(\"Int64\")\n",
        "df['title_year']"
      ],
      "metadata": {
        "id": "3PreV5sJ2wOs"
      },
      "execution_count": null,
      "outputs": []
    },
    {
      "cell_type": "markdown",
      "source": [
        "Cambie el nombre de la columna _gross_ a _movie_income_ utliando el método ```rename```"
      ],
      "metadata": {
        "id": "5kvbY79E1fbB"
      }
    },
    {
      "cell_type": "code",
      "source": [
        "rename_dict = {\"gross\":\"movie_income\", \"language\":\"Language\"}\n",
        "df.rename(columns = rename_dict,inplace = True)"
      ],
      "metadata": {
        "id": "P23DX-l53AEf"
      },
      "execution_count": null,
      "outputs": []
    },
    {
      "cell_type": "markdown",
      "source": [
        "Ejericio: Cambie el nombre de la variable _budget_ a _movie_budget_"
      ],
      "metadata": {
        "id": "qz11VYQM3IqB"
      }
    },
    {
      "cell_type": "code",
      "source": [
        "#Código del ejercicio"
      ],
      "metadata": {
        "id": "7m4GBmnH3Qnu"
      },
      "execution_count": null,
      "outputs": []
    },
    {
      "cell_type": "markdown",
      "source": [
        "## **3. Análisis de datos**\n",
        "\n",
        "Para el análisis de datos utilizará diferentes tipos de figuras. Empezará con histogramas. Un histograma es una representación gráfica de la distribución de frecuencias de un conjunto de datos numéricos. En un histograma, se dividen los datos en una serie de \"bins\" o \"intervalos\", y se cuenta la frecuencia de observaciones que caen en cada bin. Luego, se grafica la frecuencia de cada bin en el eje vertical y el valor de cada bin en el eje horizontal, lo que permite visualizar la forma y la dispersión de la distribución de los datos.\n",
        "\n",
        "En un histograma, la altura de cada barra representa la frecuencia de los datos que caen en ese bin. Los bins pueden ser de igual ancho (por ejemplo, cada bin puede representar un intervalo de 10 unidades) o de ancho variable (por ejemplo, para representar intervalos de mayor o menor densidad de datos).\n",
        "\n",
        "Visualice la distribución de la columna _duration_ utilizando histogramas. Para esto utilizará el método ```hist```, el parámetro ```bins``` permitirá definir en cuántos intervalos se analizará la frecuencia de repeticiones de eventos, en este caso, duración de las películas. Se almacena la figura en la variable ```ax```, lo que permite agregar información adicional para su interpretación. en esta figura puede observar que la mayoría de películas duran aproximadamente 100 minutos.\n",
        "\n"
      ],
      "metadata": {
        "id": "JAhIVvoM39tI"
      }
    },
    {
      "cell_type": "code",
      "source": [
        "ax = df[\"duration\"].hist(bins = 20)\n",
        "ax.set_xlabel('Time [mins]')\n",
        "ax.set_ylabel('Counts')"
      ],
      "metadata": {
        "colab": {
          "base_uri": "https://localhost:8080/",
          "height": 297
        },
        "id": "ViWyF0Du4ojS",
        "outputId": "c0cfa213-7cf6-4a0b-801a-459523189c9a"
      },
      "execution_count": 12,
      "outputs": [
        {
          "output_type": "execute_result",
          "data": {
            "text/plain": [
              "Text(0, 0.5, 'Counts')"
            ]
          },
          "metadata": {},
          "execution_count": 12
        },
        {
          "output_type": "display_data",
          "data": {
            "text/plain": [
              "<Figure size 432x288 with 1 Axes>"
            ],
            "image/png": "[encoded data removed]"
          },
          "metadata": {
            "needs_background": "light"
          }
        }
      ]
    },
    {
      "cell_type": "markdown",
      "source": [
        "Hará la misma figura utilizando la librería _plotly express_"
      ],
      "metadata": {
        "id": "vNhbznP35kNa"
      }
    },
    {
      "cell_type": "code",
      "source": [
        "fig = px.histogram(df, x=\"duration\",nbins=40,labels={'duration':'Time [mins] '})\n",
        "fig.show()"
      ],
      "metadata": {
        "colab": {
          "base_uri": "https://localhost:8080/",
          "height": 542
        },
        "id": "h-3izwbv6By7",
        "outputId": "b107b4f8-c824-418a-debd-b118fb6299ec"
      },
      "execution_count": 14,
      "outputs": [
        {
          "output_type": "display_data",
          "data": {
            "text/html": [
              "<html>\n",
              "<head><meta charset=\"utf-8\" /></head>\n",
              "<body>\n",
              "    <div>            <script src=\"https://cdnjs.cloudflare.com/ajax/libs/mathjax/2.7.5/MathJax.js?config=TeX-AMS-MML_SVG\"></script><script type=\"text/javascript\">if (window.MathJax) {MathJax.Hub.Config({SVG: {font: \"STIX-Web\"}});}</script>                <script type=\"text/javascript\">window.PlotlyConfig = {MathJaxConfig: 'local'};</script>\n",
              "        <script src=\"https://cdn.plot.ly/plotly-2.8.3.min.js\"></script>                <div id=\"3ab5f857-536a-423e-8eb0-411622cafdc3\" class=\"plotly-graph-div\" style=\"height:525px; width:100%;\"></div>            <script type=\"text/javascript\">                                    window.PLOTLYENV=window.PLOTLYENV || {};                                    if (document.getElementById(\"3ab5f857-536a-423e-8eb0-411622cafdc3\")) {                    Plotly.newPlot(                        \"3ab5f857-536a-423e-8eb0-411622cafdc3\",                        [{\"alignmentgroup\":\"True\",\"bingroup\":\"x\",\"hovertemplate\":\"Time [mins] =%{x}<br>count=%{y}<extra></extra>\",\"legendgroup\":\"\",\"marker\":{\"color\":\"#636efa\",\"pattern\":{\"shape\":\"\"}},\"name\":\"\",\"nbinsx\":40,\"offsetgroup\":\"\",\"orientation\":\"v\",\"showlegend\":false,\"x\":[178.0,169.0,148.0,164.0,null,132.0,156.0,100.0,141.0,153.0,183.0,169.0,106.0,151.0,150.0,143.0,150.0,173.0,136.0,106.0,164.0,153.0,156.0,186.0,113.0,201.0,194.0,147.0,131.0,124.0,143.0,135.0,195.0,108.0,104.0,104.0,150.0,165.0,130.0,142.0,125.0,106.0,123.0,103.0,118.0,140.0,123.0,149.0,132.0,114.0,143.0,116.0,131.0,154.0,122.0,93.0,93.0,122.0,98.0,91.0,158.0,96.0,127.0,110.0,150.0,144.0,152.0,96.0,94.0,126.0,126.0,106.0,112.0,123.0,96.0,113.0,176.0,118.0,95.0,106.0,124.0,132.0,97.0,130.0,109.0,128.0,136.0,93.0,130.0,102.0,101.0,100.0,120.0,98.0,109.0,121.0,169.0,148.0,120.0,182.0,106.0,166.0,132.0,137.0,109.0,98.0,113.0,93.0,123.0,126.0,113.0,184.0,144.0,206.0,138.0,157.0,102.0,104.0,115.0,111.0,128.0,89.0,105.0,119.0,129.0,102.0,138.0,112.0,120.0,146.0,115.0,96.0,88.0,99.0,113.0,131.0,119.0,110.0,91.0,90.0,103.0,124.0,131.0,88.0,85.0,111.0,92.0,196.0,93.0,133.0,116.0,153.0,88.0,115.0,95.0,133.0,97.0,90.0,154.0,150.0,127.0,121.0,102.0,126.0,121.0,215.0,127.0,138.0,122.0,124.0,106.0,124.0,128.0,138.0,115.0,100.0,135.0,60.0,117.0,156.0,96.0,107.0,92.0,115.0,92.0,117.0,146.0,115.0,94.0,116.0,147.0,90.0,101.0,138.0,107.0,142.0,165.0,100.0,82.0,null,98.0,95.0,159.0,96.0,120.0,143.0,null,123.0,174.0,101.0,134.0,132.0,129.0,106.0,113.0,102.0,135.0,125.0,110.0,124.0,123.0,130.0,92.0,127.0,123.0,123.0,107.0,124.0,77.0,109.0,134.0,117.0,135.0,121.0,117.0,124.0,140.0,142.0,92.0,138.0,136.0,98.0,116.0,153.0,120.0,101.0,91.0,108.0,112.0,100.0,108.0,114.0,119.0,142.0,125.0,126.0,119.0,170.0,85.0,119.0,60.0,102.0,103.0,76.0,120.0,127.0,105.0,121.0,114.0,129.0,171.0,120.0,165.0,82.0,115.0,194.0,84.0,97.0,151.0,22.0,136.0,104.0,127.0,171.0,145.0,174.0,144.0,119.0,153.0,140.0,176.0,141.0,106.0,98.0,116.0,115.0,165.0,91.0,78.0,103.0,131.0,104.0,101.0,111.0,102.0,103.0,121.0,143.0,240.0,121.0,129.0,172.0,101.0,87.0,101.0,95.0,102.0,131.0,114.0,94.0,122.0,95.0,115.0,88.0,110.0,130.0,216.0,146.0,85.0,93.0,152.0,85.0,126.0,146.0,89.0,88.0,105.0,135.0,100.0,192.0,172.0,102.0,100.0,119.0,92.0,105.0,107.0,101.0,137.0,115.0,124.0,118.0,98.0,82.0,98.0,90.0,130.0,90.0,94.0,114.0,94.0,151.0,88.0,121.0,158.0,128.0,128.0,141.0,95.0,92.0,121.0,113.0,106.0,146.0,88.0,150.0,119.0,128.0,106.0,117.0,129.0,116.0,114.0,114.0,96.0,132.0,104.0,111.0,138.0,100.0,129.0,144.0,110.0,140.0,113.0,106.0,143.0,108.0,108.0,124.0,116.0,110.0,91.0,107.0,44.0,115.0,100.0,104.0,138.0,140.0,120.0,122.0,83.0,139.0,131.0,104.0,130.0,145.0,104.0,97.0,178.0,108.0,123.0,106.0,112.0,135.0,109.0,86.0,95.0,107.0,130.0,82.0,88.0,120.0,162.0,123.0,101.0,113.0,110.0,142.0,102.0,126.0,83.0,85.0,97.0,120.0,116.0,113.0,87.0,101.0,110.0,128.0,138.0,88.0,91.0,138.0,99.0,117.0,117.0,54.0,123.0,118.0,154.0,118.0,90.0,113.0,88.0,93.0,104.0,135.0,134.0,98.0,80.0,83.0,102.0,130.0,129.0,117.0,89.0,25.0,74.0,96.0,114.0,99.0,129.0,113.0,90.0,118.0,106.0,81.0,117.0,89.0,145.0,114.0,87.0,119.0,91.0,118.0,116.0,177.0,97.0,106.0,106.0,94.0,104.0,102.0,105.0,89.0,135.0,73.0,94.0,95.0,124.0,136.0,91.0,107.0,108.0,99.0,92.0,87.0,110.0,98.0,154.0,129.0,86.0,109.0,104.0,110.0,136.0,115.0,99.0,117.0,125.0,110.0,125.0,102.0,128.0,43.0,100.0,124.0,102.0,90.0,130.0,45.0,118.0,163.0,142.0,100.0,116.0,131.0,91.0,123.0,134.0,148.0,110.0,113.0,94.0,116.0,99.0,84.0,93.0,113.0,106.0,91.0,128.0,98.0,134.0,97.0,112.0,153.0,110.0,122.0,87.0,178.0,125.0,87.0,152.0,116.0,109.0,108.0,85.0,106.0,93.0,117.0,116.0,132.0,92.0,139.0,153.0,142.0,101.0,124.0,117.0,45.0,141.0,110.0,109.0,88.0,124.0,119.0,103.0,116.0,125.0,125.0,146.0,118.0,171.0,136.0,92.0,116.0,127.0,136.0,111.0,116.0,113.0,97.0,88.0,136.0,125.0,116.0,98.0,91.0,97.0,95.0,88.0,133.0,106.0,116.0,115.0,99.0,124.0,124.0,124.0,87.0,105.0,125.0,141.0,121.0,111.0,157.0,117.0,128.0,114.0,105.0,113.0,30.0,121.0,102.0,169.0,132.0,127.0,103.0,136.0,150.0,136.0,140.0,113.0,104.0,158.0,119.0,106.0,136.0,95.0,137.0,130.0,124.0,108.0,104.0,129.0,117.0,99.0,159.0,118.0,105.0,103.0,122.0,114.0,143.0,96.0,111.0,121.0,135.0,101.0,151.0,131.0,60.0,100.0,105.0,92.0,130.0,100.0,102.0,133.0,121.0,147.0,94.0,94.0,127.0,212.0,141.0,103.0,98.0,116.0,114.0,87.0,125.0,187.0,93.0,95.0,117.0,106.0,115.0,189.0,100.0,81.0,149.0,119.0,130.0,116.0,103.0,99.0,92.0,109.0,87.0,111.0,101.0,83.0,113.0,107.0,94.0,132.0,140.0,125.0,111.0,156.0,170.0,120.0,100.0,115.0,130.0,105.0,111.0,106.0,89.0,100.0,91.0,146.0,98.0,101.0,94.0,132.0,115.0,92.0,124.0,119.0,124.0,93.0,22.0,98.0,92.0,105.0,124.0,99.0,116.0,124.0,96.0,104.0,100.0,115.0,101.0,113.0,100.0,134.0,127.0,125.0,94.0,107.0,91.0,116.0,100.0,111.0,117.0,110.0,96.0,101.0,111.0,117.0,126.0,152.0,86.0,101.0,87.0,85.0,130.0,173.0,104.0,121.0,140.0,131.0,91.0,118.0,130.0,90.0,103.0,122.0,106.0,103.0,107.0,156.0,127.0,119.0,132.0,108.0,114.0,133.0,103.0,22.0,95.0,90.0,87.0,114.0,119.0,103.0,125.0,97.0,125.0,30.0,136.0,116.0,103.0,97.0,96.0,131.0,22.0,95.0,86.0,142.0,92.0,108.0,84.0,188.0,95.0,118.0,92.0,74.0,134.0,101.0,100.0,132.0,105.0,123.0,117.0,98.0,128.0,114.0,111.0,85.0,44.0,137.0,97.0,104.0,110.0,133.0,94.0,104.0,91.0,145.0,135.0,122.0,110.0,95.0,102.0,94.0,126.0,118.0,99.0,88.0,141.0,107.0,116.0,143.0,114.0,93.0,280.0,100.0,107.0,119.0,95.0,119.0,133.0,152.0,96.0,117.0,123.0,92.0,170.0,123.0,110.0,116.0,121.0,128.0,99.0,94.0,127.0,89.0,123.0,135.0,118.0,189.0,172.0,124.0,141.0,157.0,106.0,108.0,125.0,107.0,215.0,118.0,118.0,178.0,92.0,104.0,116.0,90.0,93.0,130.0,90.0,106.0,155.0,139.0,112.0,139.0,115.0,143.0,96.0,112.0,131.0,116.0,112.0,123.0,104.0,107.0,124.0,96.0,125.0,129.0,90.0,109.0,124.0,121.0,95.0,128.0,118.0,80.0,99.0,133.0,127.0,106.0,98.0,132.0,114.0,45.0,78.0,101.0,113.0,98.0,124.0,109.0,128.0,144.0,95.0,105.0,121.0,125.0,129.0,132.0,118.0,113.0,140.0,89.0,104.0,106.0,141.0,124.0,98.0,108.0,114.0,101.0,93.0,119.0,119.0,99.0,137.0,105.0,117.0,87.0,129.0,115.0,132.0,131.0,95.0,125.0,98.0,110.0,118.0,101.0,60.0,90.0,119.0,139.0,130.0,100.0,114.0,96.0,110.0,158.0,102.0,84.0,115.0,99.0,135.0,108.0,43.0,127.0,107.0,95.0,124.0,109.0,102.0,88.0,87.0,104.0,96.0,85.0,64.0,104.0,135.0,190.0,127.0,129.0,120.0,118.0,112.0,89.0,114.0,137.0,112.0,120.0,123.0,93.0,123.0,122.0,115.0,123.0,96.0,110.0,105.0,113.0,132.0,93.0,115.0,75.0,108.0,105.0,102.0,118.0,111.0,81.0,116.0,86.0,127.0,140.0,91.0,98.0,84.0,109.0,93.0,113.0,141.0,119.0,97.0,117.0,101.0,153.0,122.0,102.0,83.0,103.0,110.0,136.0,91.0,89.0,107.0,129.0,95.0,122.0,110.0,135.0,111.0,95.0,109.0,93.0,94.0,117.0,112.0,111.0,96.0,141.0,94.0,87.0,88.0,177.0,133.0,119.0,102.0,101.0,91.0,117.0,86.0,124.0,134.0,95.0,100.0,220.0,212.0,128.0,106.0,160.0,114.0,99.0,74.0,139.0,52.0,103.0,101.0,91.0,130.0,130.0,110.0,147.0,96.0,118.0,88.0,325.0,102.0,110.0,136.0,103.0,103.0,90.0,154.0,99.0,93.0,109.0,124.0,84.0,90.0,117.0,123.0,251.0,105.0,115.0,122.0,119.0,81.0,133.0,100.0,120.0,104.0,122.0,80.0,91.0,112.0,100.0,30.0,105.0,110.0,101.0,144.0,108.0,107.0,102.0,100.0,126.0,138.0,108.0,105.0,108.0,89.0,129.0,84.0,149.0,94.0,121.0,128.0,134.0,120.0,129.0,89.0,116.0,118.0,107.0,155.0,123.0,128.0,139.0,109.0,120.0,121.0,102.0,117.0,178.0,147.0,90.0,105.0,114.0,206.0,99.0,123.0,137.0,102.0,109.0,82.0,142.0,106.0,114.0,106.0,108.0,98.0,131.0,118.0,113.0,130.0,116.0,89.0,139.0,130.0,107.0,116.0,96.0,99.0,104.0,105.0,101.0,134.0,135.0,98.0,155.0,106.0,102.0,95.0,103.0,95.0,109.0,95.0,111.0,123.0,140.0,94.0,94.0,92.0,102.0,123.0,104.0,30.0,102.0,136.0,93.0,129.0,107.0,117.0,116.0,135.0,107.0,90.0,99.0,104.0,115.0,119.0,99.0,112.0,128.0,112.0,86.0,108.0,128.0,84.0,111.0,131.0,123.0,101.0,102.0,114.0,107.0,87.0,103.0,99.0,122.0,91.0,103.0,107.0,106.0,101.0,109.0,110.0,89.0,100.0,119.0,83.0,108.0,102.0,93.0,84.0,107.0,91.0,94.0,115.0,93.0,105.0,107.0,101.0,111.0,113.0,112.0,126.0,90.0,93.0,98.0,159.0,107.0,102.0,106.0,87.0,119.0,110.0,125.0,113.0,150.0,108.0,96.0,93.0,100.0,118.0,122.0,120.0,60.0,88.0,146.0,115.0,123.0,94.0,102.0,98.0,133.0,118.0,105.0,109.0,129.0,109.0,127.0,118.0,110.0,90.0,144.0,97.0,130.0,112.0,133.0,150.0,110.0,96.0,96.0,123.0,188.0,107.0,110.0,113.0,122.0,116.0,93.0,118.0,115.0,93.0,121.0,101.0,107.0,124.0,109.0,105.0,130.0,127.0,114.0,106.0,95.0,81.0,95.0,108.0,105.0,95.0,126.0,102.0,121.0,129.0,43.0,88.0,106.0,110.0,109.0,143.0,120.0,128.0,123.0,129.0,105.0,162.0,138.0,100.0,90.0,108.0,101.0,109.0,132.0,123.0,87.0,109.0,109.0,92.0,125.0,202.0,134.0,88.0,92.0,91.0,75.0,98.0,147.0,100.0,120.0,104.0,103.0,109.0,104.0,112.0,60.0,95.0,102.0,102.0,150.0,122.0,101.0,108.0,98.0,137.0,112.0,101.0,103.0,101.0,112.0,111.0,102.0,101.0,155.0,93.0,109.0,140.0,108.0,96.0,123.0,106.0,76.0,107.0,82.0,109.0,99.0,91.0,87.0,125.0,118.0,98.0,92.0,93.0,116.0,92.0,115.0,120.0,111.0,94.0,100.0,101.0,139.0,91.0,109.0,102.0,103.0,83.0,123.0,101.0,117.0,60.0,114.0,330.0,121.0,114.0,156.0,135.0,148.0,148.0,109.0,93.0,null,113.0,91.0,139.0,96.0,102.0,96.0,101.0,128.0,109.0,114.0,105.0,141.0,195.0,138.0,101.0,99.0,85.0,89.0,99.0,105.0,97.0,140.0,118.0,94.0,124.0,134.0,113.0,124.0,98.0,97.0,123.0,99.0,101.0,92.0,131.0,107.0,103.0,129.0,107.0,89.0,113.0,93.0,120.0,98.0,105.0,142.0,98.0,96.0,87.0,107.0,90.0,121.0,119.0,107.0,110.0,100.0,75.0,132.0,105.0,93.0,289.0,102.0,143.0,113.0,161.0,138.0,126.0,99.0,101.0,103.0,118.0,116.0,99.0,105.0,113.0,93.0,108.0,74.0,116.0,104.0,106.0,120.0,135.0,132.0,92.0,99.0,90.0,111.0,103.0,127.0,112.0,87.0,138.0,132.0,103.0,123.0,111.0,102.0,78.0,132.0,133.0,108.0,125.0,98.0,119.0,87.0,91.0,100.0,118.0,44.0,109.0,99.0,114.0,89.0,95.0,98.0,94.0,85.0,124.0,131.0,107.0,99.0,83.0,131.0,85.0,126.0,102.0,123.0,105.0,125.0,92.0,77.0,118.0,121.0,124.0,99.0,112.0,111.0,107.0,104.0,113.0,113.0,95.0,86.0,126.0,101.0,102.0,111.0,60.0,95.0,98.0,100.0,118.0,28.0,125.0,94.0,79.0,106.0,111.0,63.0,85.0,108.0,139.0,127.0,106.0,95.0,118.0,108.0,105.0,131.0,104.0,133.0,94.0,109.0,96.0,105.0,99.0,112.0,108.0,126.0,98.0,104.0,110.0,130.0,93.0,96.0,114.0,106.0,150.0,100.0,100.0,100.0,107.0,102.0,101.0,86.0,108.0,123.0,134.0,511.0,88.0,109.0,122.0,251.0,118.0,131.0,109.0,80.0,88.0,103.0,87.0,160.0,121.0,91.0,92.0,129.0,93.0,118.0,110.0,103.0,85.0,110.0,89.0,115.0,153.0,42.0,128.0,89.0,122.0,113.0,99.0,99.0,147.0,112.0,88.0,94.0,90.0,167.0,118.0,83.0,104.0,110.0,102.0,131.0,101.0,130.0,120.0,135.0,110.0,103.0,115.0,110.0,91.0,105.0,127.0,82.0,99.0,90.0,115.0,96.0,104.0,117.0,83.0,99.0,81.0,135.0,117.0,139.0,123.0,117.0,97.0,81.0,103.0,119.0,94.0,89.0,98.0,107.0,108.0,134.0,110.0,103.0,145.0,100.0,131.0,133.0,109.0,114.0,164.0,92.0,122.0,42.0,110.0,116.0,106.0,115.0,148.0,119.0,118.0,101.0,82.0,110.0,193.0,130.0,94.0,111.0,110.0,30.0,109.0,123.0,109.0,99.0,106.0,89.0,98.0,93.0,112.0,101.0,104.0,120.0,135.0,91.0,97.0,133.0,123.0,114.0,111.0,117.0,121.0,139.0,115.0,22.0,175.0,85.0,90.0,107.0,100.0,129.0,109.0,94.0,133.0,105.0,100.0,113.0,118.0,110.0,110.0,99.0,101.0,100.0,103.0,100.0,95.0,117.0,129.0,120.0,125.0,133.0,116.0,129.0,93.0,118.0,129.0,185.0,146.0,128.0,93.0,107.0,97.0,101.0,82.0,85.0,88.0,119.0,122.0,99.0,97.0,121.0,95.0,105.0,108.0,134.0,115.0,107.0,86.0,101.0,96.0,101.0,100.0,117.0,101.0,98.0,146.0,102.0,97.0,142.0,98.0,219.0,109.0,97.0,158.0,85.0,80.0,86.0,119.0,98.0,97.0,105.0,124.0,97.0,105.0,104.0,101.0,101.0,114.0,105.0,90.0,97.0,144.0,114.0,124.0,89.0,160.0,93.0,87.0,88.0,142.0,92.0,117.0,111.0,121.0,98.0,107.0,106.0,136.0,97.0,7.0,108.0,97.0,99.0,103.0,95.0,93.0,98.0,90.0,107.0,90.0,120.0,115.0,93.0,99.0,107.0,110.0,101.0,85.0,132.0,88.0,90.0,145.0,110.0,101.0,30.0,122.0,107.0,127.0,99.0,104.0,140.0,133.0,271.0,112.0,99.0,100.0,92.0,105.0,110.0,116.0,88.0,111.0,117.0,95.0,95.0,127.0,105.0,104.0,95.0,121.0,92.0,80.0,107.0,91.0,117.0,107.0,131.0,122.0,88.0,134.0,117.0,80.0,85.0,138.0,121.0,134.0,100.0,100.0,119.0,137.0,119.0,139.0,114.0,120.0,98.0,106.0,98.0,107.0,88.0,137.0,100.0,115.0,101.0,110.0,94.0,88.0,127.0,95.0,87.0,118.0,107.0,124.0,89.0,88.0,118.0,93.0,80.0,120.0,98.0,119.0,88.0,201.0,90.0,127.0,119.0,85.0,98.0,101.0,112.0,97.0,126.0,106.0,97.0,100.0,114.0,101.0,88.0,93.0,92.0,98.0,94.0,102.0,98.0,121.0,111.0,90.0,100.0,50.0,141.0,139.0,114.0,96.0,111.0,127.0,107.0,97.0,127.0,110.0,135.0,84.0,240.0,122.0,114.0,132.0,170.0,133.0,112.0,108.0,115.0,83.0,105.0,110.0,108.0,96.0,94.0,142.0,104.0,136.0,106.0,106.0,98.0,100.0,95.0,107.0,104.0,104.0,143.0,77.0,96.0,114.0,145.0,116.0,100.0,104.0,92.0,92.0,105.0,120.0,116.0,119.0,101.0,117.0,106.0,112.0,136.0,81.0,87.0,96.0,106.0,122.0,123.0,133.0,92.0,110.0,104.0,60.0,98.0,120.0,112.0,127.0,102.0,91.0,114.0,115.0,115.0,120.0,135.0,90.0,100.0,105.0,138.0,94.0,101.0,131.0,91.0,112.0,95.0,100.0,105.0,108.0,101.0,114.0,109.0,115.0,117.0,107.0,134.0,118.0,121.0,105.0,110.0,114.0,104.0,100.0,85.0,72.0,128.0,72.0,89.0,96.0,77.0,123.0,111.0,30.0,93.0,129.0,128.0,110.0,137.0,124.0,93.0,115.0,98.0,105.0,127.0,82.0,143.0,103.0,104.0,98.0,92.0,123.0,88.0,158.0,128.0,107.0,91.0,90.0,115.0,101.0,113.0,113.0,87.0,101.0,111.0,108.0,105.0,109.0,109.0,99.0,98.0,104.0,109.0,75.0,119.0,90.0,97.0,103.0,89.0,106.0,96.0,115.0,104.0,24.0,108.0,112.0,104.0,113.0,98.0,121.0,114.0,124.0,148.0,108.0,95.0,108.0,68.0,103.0,99.0,30.0,88.0,128.0,124.0,84.0,122.0,101.0,98.0,105.0,225.0,111.0,88.0,88.0,94.0,117.0,95.0,99.0,96.0,98.0,123.0,101.0,102.0,94.0,102.0,108.0,116.0,93.0,102.0,103.0,115.0,96.0,98.0,101.0,106.0,101.0,87.0,111.0,99.0,88.0,83.0,91.0,108.0,154.0,148.0,77.0,110.0,42.0,83.0,107.0,100.0,87.0,154.0,106.0,99.0,100.0,116.0,94.0,111.0,100.0,125.0,114.0,119.0,135.0,93.0,114.0,124.0,134.0,114.0,124.0,104.0,118.0,80.0,107.0,125.0,115.0,88.0,122.0,103.0,101.0,101.0,107.0,86.0,118.0,107.0,100.0,30.0,110.0,106.0,7.0,102.0,98.0,83.0,153.0,98.0,105.0,96.0,105.0,125.0,184.0,236.0,97.0,113.0,95.0,103.0,91.0,146.0,116.0,93.0,113.0,90.0,101.0,95.0,109.0,43.0,85.0,101.0,125.0,118.0,132.0,131.0,129.0,100.0,172.0,97.0,121.0,92.0,116.0,110.0,90.0,81.0,97.0,107.0,118.0,100.0,97.0,114.0,130.0,82.0,96.0,105.0,122.0,88.0,110.0,103.0,106.0,98.0,68.0,94.0,99.0,107.0,180.0,89.0,97.0,113.0,131.0,44.0,103.0,119.0,98.0,111.0,94.0,122.0,81.0,89.0,106.0,122.0,86.0,103.0,121.0,109.0,109.0,123.0,94.0,94.0,115.0,107.0,91.0,125.0,122.0,102.0,90.0,98.0,109.0,107.0,90.0,112.0,94.0,105.0,104.0,112.0,108.0,112.0,127.0,111.0,126.0,114.0,99.0,150.0,117.0,112.0,108.0,116.0,60.0,144.0,92.0,93.0,103.0,93.0,98.0,334.0,114.0,121.0,87.0,92.0,105.0,90.0,89.0,114.0,119.0,103.0,91.0,98.0,80.0,121.0,94.0,93.0,93.0,116.0,101.0,154.0,170.0,99.0,104.0,126.0,110.0,101.0,80.0,87.0,123.0,109.0,90.0,96.0,125.0,82.0,86.0,108.0,98.0,129.0,99.0,105.0,112.0,108.0,121.0,89.0,89.0,73.0,132.0,154.0,96.0,98.0,107.0,134.0,94.0,122.0,128.0,97.0,110.0,102.0,98.0,120.0,160.0,80.0,91.0,83.0,102.0,122.0,110.0,126.0,136.0,120.0,108.0,126.0,128.0,113.0,89.0,129.0,94.0,106.0,100.0,89.0,94.0,83.0,111.0,80.0,112.0,60.0,94.0,130.0,91.0,91.0,110.0,121.0,114.0,96.0,270.0,100.0,94.0,109.0,107.0,96.0,88.0,110.0,113.0,101.0,105.0,125.0,100.0,97.0,108.0,112.0,112.0,95.0,110.0,118.0,97.0,120.0,135.0,101.0,92.0,106.0,92.0,161.0,92.0,93.0,110.0,122.0,91.0,45.0,115.0,94.0,93.0,94.0,95.0,105.0,103.0,102.0,116.0,110.0,120.0,122.0,118.0,107.0,45.0,102.0,154.0,103.0,141.0,114.0,109.0,124.0,94.0,100.0,101.0,98.0,102.0,94.0,92.0,113.0,115.0,95.0,87.0,88.0,183.0,97.0,94.0,112.0,98.0,104.0,118.0,120.0,99.0,109.0,105.0,106.0,123.0,86.0,120.0,227.0,119.0,115.0,114.0,90.0,94.0,106.0,98.0,126.0,100.0,89.0,111.0,100.0,115.0,106.0,124.0,107.0,99.0,90.0,101.0,119.0,103.0,134.0,155.0,94.0,95.0,89.0,97.0,90.0,92.0,100.0,117.0,84.0,140.0,108.0,109.0,131.0,114.0,97.0,122.0,87.0,85.0,85.0,101.0,121.0,107.0,111.0,92.0,97.0,97.0,125.0,124.0,76.0,107.0,91.0,96.0,142.0,103.0,60.0,117.0,116.0,118.0,108.0,94.0,97.0,97.0,99.0,91.0,107.0,95.0,102.0,88.0,106.0,92.0,105.0,107.0,120.0,103.0,92.0,147.0,98.0,98.0,103.0,286.0,111.0,98.0,111.0,111.0,100.0,116.0,145.0,84.0,115.0,105.0,98.0,99.0,110.0,97.0,88.0,103.0,104.0,90.0,105.0,93.0,141.0,85.0,109.0,105.0,98.0,119.0,124.0,101.0,115.0,120.0,111.0,94.0,131.0,139.0,120.0,119.0,125.0,65.0,108.0,101.0,145.0,98.0,101.0,92.0,93.0,109.0,123.0,60.0,99.0,119.0,110.0,107.0,81.0,105.0,82.0,109.0,95.0,100.0,118.0,91.0,90.0,108.0,103.0,96.0,117.0,93.0,136.0,115.0,94.0,85.0,88.0,112.0,86.0,86.0,112.0,137.0,90.0,107.0,98.0,84.0,139.0,97.0,127.0,150.0,104.0,132.0,117.0,115.0,186.0,90.0,90.0,134.0,101.0,97.0,107.0,99.0,55.0,124.0,110.0,105.0,41.0,178.0,125.0,108.0,121.0,100.0,115.0,108.0,117.0,220.0,112.0,99.0,109.0,83.0,107.0,102.0,100.0,97.0,92.0,84.0,86.0,120.0,89.0,117.0,97.0,91.0,100.0,72.0,84.0,126.0,108.0,112.0,90.0,91.0,135.0,141.0,104.0,84.0,118.0,82.0,95.0,94.0,88.0,99.0,121.0,84.0,93.0,93.0,120.0,112.0,107.0,112.0,96.0,91.0,105.0,125.0,102.0,87.0,118.0,115.0,91.0,88.0,127.0,94.0,115.0,90.0,102.0,100.0,117.0,109.0,121.0,111.0,100.0,109.0,93.0,101.0,101.0,106.0,94.0,140.0,132.0,99.0,90.0,105.0,108.0,69.0,148.0,118.0,132.0,130.0,95.0,80.0,94.0,122.0,102.0,116.0,78.0,114.0,112.0,110.0,104.0,81.0,154.0,102.0,89.0,132.0,103.0,93.0,93.0,172.0,96.0,89.0,92.0,97.0,93.0,89.0,144.0,123.0,93.0,133.0,121.0,102.0,102.0,99.0,55.0,98.0,118.0,125.0,104.0,109.0,86.0,115.0,92.0,91.0,94.0,93.0,93.0,100.0,100.0,113.0,122.0,100.0,293.0,137.0,93.0,123.0,119.0,107.0,106.0,109.0,81.0,95.0,86.0,113.0,122.0,90.0,108.0,113.0,110.0,109.0,110.0,100.0,101.0,97.0,172.0,104.0,99.0,129.0,91.0,100.0,111.0,114.0,86.0,107.0,90.0,103.0,120.0,134.0,110.0,95.0,95.0,132.0,94.0,89.0,138.0,113.0,99.0,111.0,99.0,104.0,89.0,103.0,134.0,100.0,130.0,106.0,125.0,109.0,200.0,114.0,112.0,116.0,92.0,120.0,107.0,92.0,107.0,100.0,81.0,101.0,122.0,97.0,92.0,92.0,110.0,86.0,91.0,145.0,100.0,111.0,184.0,89.0,84.0,98.0,95.0,100.0,109.0,118.0,88.0,86.0,118.0,125.0,125.0,94.0,113.0,104.0,95.0,102.0,124.0,105.0,104.0,120.0,111.0,95.0,96.0,97.0,118.0,193.0,97.0,98.0,103.0,161.0,120.0,97.0,97.0,99.0,24.0,144.0,111.0,145.0,106.0,126.0,106.0,121.0,117.0,98.0,109.0,95.0,109.0,96.0,101.0,107.0,119.0,178.0,100.0,98.0,92.0,90.0,90.0,153.0,124.0,82.0,107.0,75.0,97.0,80.0,85.0,97.0,109.0,104.0,140.0,90.0,130.0,98.0,101.0,114.0,100.0,85.0,103.0,100.0,114.0,102.0,103.0,97.0,116.0,96.0,98.0,105.0,123.0,107.0,112.0,93.0,97.0,122.0,101.0,100.0,129.0,81.0,96.0,84.0,100.0,110.0,130.0,84.0,106.0,89.0,76.0,99.0,96.0,104.0,108.0,108.0,87.0,89.0,97.0,106.0,100.0,89.0,114.0,95.0,97.0,94.0,103.0,95.0,101.0,87.0,40.0,101.0,82.0,74.0,130.0,112.0,96.0,89.0,100.0,78.0,121.0,85.0,120.0,106.0,83.0,120.0,111.0,100.0,89.0,115.0,135.0,92.0,120.0,97.0,135.0,93.0,118.0,97.0,98.0,98.0,101.0,132.0,106.0,55.0,168.0,87.0,98.0,96.0,104.0,93.0,95.0,119.0,89.0,107.0,85.0,93.0,101.0,103.0,101.0,123.0,111.0,86.0,99.0,90.0,82.0,110.0,83.0,128.0,125.0,97.0,86.0,91.0,90.0,90.0,94.0,112.0,85.0,93.0,104.0,94.0,85.0,99.0,91.0,117.0,85.0,106.0,81.0,100.0,90.0,116.0,84.0,135.0,84.0,89.0,107.0,144.0,98.0,94.0,117.0,102.0,127.0,98.0,88.0,197.0,121.0,90.0,89.0,104.0,94.0,90.0,130.0,92.0,176.0,116.0,88.0,106.0,181.0,130.0,93.0,110.0,123.0,120.0,87.0,123.0,103.0,91.0,88.0,126.0,120.0,116.0,94.0,85.0,137.0,114.0,76.0,119.0,99.0,79.0,114.0,30.0,91.0,95.0,103.0,92.0,124.0,156.0,84.0,300.0,120.0,98.0,121.0,97.0,86.0,93.0,45.0,97.0,102.0,105.0,103.0,93.0,76.0,90.0,122.0,127.0,84.0,23.0,96.0,97.0,112.0,125.0,96.0,98.0,92.0,103.0,122.0,101.0,104.0,101.0,135.0,119.0,128.0,107.0,106.0,126.0,128.0,127.0,160.0,126.0,171.0,150.0,122.0,178.0,95.0,117.0,119.0,174.0,111.0,101.0,89.0,113.0,95.0,112.0,109.0,108.0,100.0,90.0,130.0,94.0,93.0,80.0,111.0,142.0,60.0,107.0,91.0,112.0,82.0,97.0,128.0,102.0,93.0,116.0,138.0,117.0,93.0,92.0,110.0,92.0,104.0,98.0,89.0,92.0,140.0,60.0,90.0,129.0,111.0,79.0,104.0,101.0,113.0,92.0,106.0,98.0,75.0,104.0,108.0,99.0,180.0,109.0,111.0,93.0,99.0,98.0,95.0,142.0,107.0,102.0,97.0,124.0,97.0,124.0,96.0,114.0,90.0,104.0,102.0,93.0,90.0,106.0,99.0,115.0,89.0,101.0,92.0,94.0,100.0,106.0,109.0,105.0,102.0,97.0,118.0,92.0,112.0,103.0,93.0,101.0,115.0,113.0,95.0,153.0,89.0,92.0,107.0,118.0,97.0,156.0,100.0,96.0,104.0,120.0,175.0,95.0,95.0,121.0,110.0,96.0,121.0,95.0,112.0,112.0,143.0,93.0,110.0,104.0,115.0,53.0,119.0,125.0,96.0,100.0,46.0,89.0,92.0,109.0,44.0,103.0,95.0,143.0,105.0,79.0,106.0,100.0,103.0,116.0,99.0,164.0,96.0,122.0,94.0,93.0,96.0,60.0,113.0,60.0,192.0,99.0,91.0,100.0,105.0,99.0,112.0,100.0,99.0,100.0,125.0,107.0,107.0,97.0,105.0,95.0,106.0,93.0,103.0,96.0,103.0,108.0,177.0,118.0,97.0,102.0,92.0,88.0,80.0,45.0,115.0,97.0,102.0,111.0,96.0,94.0,125.0,108.0,101.0,101.0,139.0,125.0,88.0,115.0,99.0,88.0,112.0,108.0,107.0,104.0,108.0,102.0,88.0,115.0,91.0,141.0,101.0,105.0,100.0,116.0,97.0,106.0,105.0,102.0,122.0,107.0,121.0,98.0,108.0,55.0,123.0,110.0,120.0,122.0,110.0,139.0,124.0,120.0,152.0,98.0,106.0,106.0,106.0,89.0,94.0,109.0,144.0,90.0,106.0,121.0,89.0,86.0,91.0,104.0,null,99.0,98.0,121.0,96.0,99.0,42.0,122.0,101.0,102.0,84.0,104.0,96.0,94.0,90.0,97.0,90.0,106.0,96.0,44.0,95.0,99.0,93.0,99.0,95.0,84.0,144.0,99.0,110.0,97.0,107.0,90.0,104.0,96.0,104.0,97.0,107.0,117.0,85.0,152.0,85.0,76.0,87.0,95.0,101.0,90.0,240.0,89.0,111.0,86.0,115.0,103.0,90.0,133.0,88.0,111.0,94.0,25.0,112.0,141.0,95.0,141.0,85.0,105.0,129.0,125.0,116.0,105.0,90.0,105.0,111.0,91.0,95.0,97.0,92.0,104.0,120.0,99.0,93.0,99.0,99.0,157.0,90.0,96.0,96.0,90.0,100.0,94.0,98.0,129.0,103.0,128.0,106.0,95.0,104.0,87.0,81.0,94.0,89.0,88.0,108.0,115.0,96.0,135.0,113.0,93.0,109.0,127.0,101.0,124.0,117.0,83.0,113.0,104.0,97.0,110.0,103.0,94.0,102.0,77.0,134.0,129.0,90.0,134.0,104.0,95.0,93.0,106.0,109.0,101.0,139.0,99.0,100.0,95.0,94.0,93.0,106.0,99.0,82.0,135.0,88.0,89.0,110.0,107.0,86.0,91.0,103.0,90.0,141.0,92.0,99.0,79.0,96.0,82.0,92.0,112.0,106.0,90.0,126.0,150.0,90.0,91.0,145.0,95.0,97.0,90.0,41.0,112.0,122.0,110.0,87.0,108.0,121.0,97.0,116.0,94.0,103.0,112.0,91.0,98.0,95.0,88.0,99.0,91.0,97.0,136.0,118.0,94.0,89.0,90.0,95.0,90.0,95.0,94.0,90.0,103.0,60.0,91.0,102.0,92.0,87.0,80.0,90.0,44.0,105.0,67.0,95.0,87.0,94.0,109.0,130.0,null,88.0,88.0,97.0,113.0,99.0,148.0,107.0,93.0,94.0,121.0,118.0,98.0,82.0,101.0,106.0,90.0,79.0,87.0,null,105.0,89.0,100.0,92.0,97.0,100.0,96.0,104.0,117.0,90.0,115.0,108.0,43.0,109.0,102.0,100.0,115.0,122.0,98.0,133.0,105.0,122.0,106.0,98.0,112.0,120.0,99.0,110.0,102.0,109.0,104.0,134.0,133.0,85.0,87.0,130.0,199.0,103.0,112.0,89.0,124.0,101.0,133.0,112.0,111.0,98.0,60.0,93.0,104.0,112.0,94.0,90.0,96.0,101.0,93.0,152.0,150.0,112.0,95.0,111.0,86.0,108.0,105.0,91.0,105.0,60.0,106.0,93.0,172.0,109.0,93.0,165.0,96.0,119.0,93.0,82.0,101.0,120.0,81.0,82.0,107.0,105.0,86.0,110.0,127.0,90.0,110.0,104.0,96.0,110.0,84.0,94.0,93.0,96.0,88.0,101.0,102.0,87.0,83.0,103.0,99.0,106.0,115.0,117.0,99.0,102.0,85.0,86.0,120.0,106.0,103.0,93.0,112.0,100.0,113.0,98.0,23.0,92.0,106.0,119.0,99.0,90.0,120.0,168.0,93.0,96.0,103.0,93.0,84.0,81.0,84.0,94.0,141.0,120.0,121.0,226.0,104.0,152.0,92.0,107.0,97.0,115.0,95.0,102.0,99.0,109.0,113.0,25.0,113.0,91.0,88.0,88.0,97.0,97.0,42.0,85.0,121.0,134.0,149.0,121.0,116.0,92.0,93.0,96.0,105.0,129.0,87.0,94.0,37.0,81.0,97.0,106.0,103.0,101.0,102.0,98.0,91.0,105.0,98.0,104.0,45.0,96.0,148.0,100.0,86.0,92.0,88.0,90.0,94.0,80.0,107.0,99.0,92.0,107.0,135.0,99.0,102.0,93.0,115.0,94.0,91.0,98.0,97.0,92.0,128.0,136.0,113.0,99.0,101.0,105.0,95.0,109.0,110.0,108.0,118.0,94.0,115.0,98.0,91.0,120.0,109.0,87.0,117.0,85.0,110.0,113.0,108.0,95.0,98.0,93.0,86.0,161.0,100.0,120.0,125.0,91.0,128.0,100.0,84.0,97.0,84.0,146.0,186.0,94.0,11.0,126.0,99.0,109.0,95.0,97.0,94.0,90.0,197.0,117.0,96.0,82.0,109.0,90.0,89.0,98.0,95.0,94.0,104.0,87.0,108.0,86.0,94.0,134.0,89.0,102.0,120.0,110.0,86.0,101.0,102.0,87.0,123.0,99.0,173.0,87.0,44.0,120.0,93.0,111.0,60.0,98.0,100.0,88.0,97.0,122.0,86.0,83.0,80.0,108.0,90.0,96.0,85.0,83.0,80.0,90.0,92.0,100.0,88.0,95.0,82.0,97.0,105.0,94.0,95.0,113.0,136.0,80.0,105.0,90.0,93.0,107.0,89.0,90.0,89.0,116.0,120.0,88.0,102.0,106.0,95.0,144.0,113.0,118.0,141.0,90.0,109.0,95.0,122.0,93.0,97.0,82.0,140.0,86.0,109.0,105.0,66.0,99.0,100.0,103.0,97.0,86.0,87.0,119.0,149.0,98.0,98.0,112.0,75.0,104.0,102.0,105.0,99.0,107.0,96.0,101.0,89.0,106.0,95.0,34.0,101.0,112.0,100.0,92.0,100.0,80.0,106.0,103.0,90.0,96.0,89.0,87.0,94.0,120.0,101.0,84.0,110.0,101.0,101.0,101.0,105.0,97.0,108.0,95.0,108.0,90.0,120.0,104.0,90.0,91.0,92.0,117.0,120.0,90.0,119.0,90.0,90.0,97.0,90.0,172.0,115.0,89.0,125.0,78.0,89.0,100.0,77.0,81.0,115.0,96.0,60.0,89.0,100.0,88.0,129.0,87.0,102.0,152.0,118.0,86.0,137.0,129.0,134.0,119.0,80.0,89.0,101.0,80.0,115.0,100.0,118.0,100.0,106.0,106.0,91.0,105.0,96.0,116.0,116.0,97.0,101.0,98.0,22.0,150.0,101.0,90.0,120.0,102.0,102.0,60.0,100.0,104.0,89.0,99.0,96.0,86.0,98.0,96.0,94.0,91.0,null,90.0,85.0,96.0,129.0,60.0,93.0,100.0,97.0,94.0,95.0,97.0,92.0,96.0,85.0,87.0,91.0,99.0,88.0,119.0,99.0,92.0,86.0,83.0,81.0,82.0,102.0,90.0,30.0,92.0,88.0,97.0,96.0,87.0,106.0,107.0,80.0,91.0,99.0,102.0,108.0,88.0,89.0,92.0,99.0,103.0,90.0,95.0,97.0,108.0,95.0,100.0,160.0,101.0,90.0,86.0,89.0,87.0,98.0,125.0,95.0,118.0,93.0,96.0,109.0,109.0,155.0,90.0,93.0,108.0,114.0,87.0,113.0,87.0,90.0,111.0,81.0,93.0,90.0,112.0,106.0,88.0,138.0,105.0,98.0,86.0,104.0,100.0,126.0,118.0,103.0,102.0,84.0,null,95.0,92.0,90.0,113.0,null,123.0,111.0,99.0,110.0,108.0,92.0,120.0,91.0,88.0,97.0,95.0,90.0,95.0,103.0,110.0,103.0,92.0,114.0,101.0,112.0,104.0,99.0,98.0,107.0,93.0,100.0,80.0,94.0,93.0,87.0,91.0,84.0,90.0,98.0,108.0,124.0,95.0,90.0,93.0,101.0,107.0,20.0,87.0,98.0,112.0,82.0,102.0,97.0,130.0,101.0,93.0,83.0,106.0,113.0,94.0,101.0,99.0,76.0,91.0,105.0,120.0,105.0,120.0,105.0,95.0,135.0,105.0,83.0,111.0,60.0,135.0,88.0,87.0,97.0,82.0,103.0,130.0,87.0,101.0,96.0,80.0,87.0,92.0,118.0,27.0,123.0,100.0,103.0,100.0,99.0,89.0,104.0,114.0,111.0,99.0,110.0,85.0,113.0,99.0,83.0,142.0,112.0,108.0,88.0,97.0,85.0,103.0,110.0,88.0,76.0,100.0,99.0,84.0,91.0,97.0,84.0,100.0,94.0,90.0,null,92.0,105.0,73.0,116.0,110.0,102.0,89.0,76.0,82.0,89.0,150.0,89.0,145.0,91.0,89.0,121.0,83.0,110.0,91.0,110.0,86.0,86.0,120.0,90.0,99.0,112.0,103.0,83.0,109.0,89.0,96.0,109.0,122.0,100.0,109.0,95.0,94.0,107.0,104.0,96.0,93.0,102.0,84.0,97.0,91.0,84.0,86.0,91.0,92.0,94.0,92.0,103.0,100.0,119.0,167.0,92.0,92.0,108.0,97.0,88.0,100.0,100.0,124.0,88.0,106.0,79.0,135.0,96.0,53.0,97.0,120.0,90.0,91.0,93.0,112.0,160.0,95.0,93.0,88.0,105.0,98.0,82.0,89.0,78.0,97.0,81.0,90.0,97.0,88.0,96.0,105.0,null,76.0,96.0,99.0,90.0,94.0,87.0,93.0,90.0,89.0,83.0,96.0,90.0,138.0,84.0,83.0,96.0,94.0,90.0,95.0,93.0,111.0,101.0,103.0,87.0,30.0,100.0,90.0,83.0,108.0,100.0,113.0,97.0,104.0,91.0,107.0,85.0,101.0,70.0,88.0,112.0,107.0,78.0,90.0,88.0,92.0,95.0,85.0,86.0,90.0,123.0,93.0,88.0,114.0,88.0,110.0,95.0,83.0,104.0,94.0,87.0,93.0,91.0,90.0,14.0,112.0,75.0,86.0,86.0,89.0,95.0,101.0,89.0,106.0,88.0,99.0,90.0,95.0,85.0,170.0,86.0,null,97.0,104.0,88.0,201.0,108.0,106.0,107.0,84.0,91.0,90.0,103.0,71.0,90.0,67.0,94.0,81.0,81.0,215.0,83.0,106.0,103.0,90.0,88.0,105.0,115.0,90.0,102.0,98.0,87.0,80.0,88.0,83.0,122.0,115.0,86.0,79.0,87.0,97.0,105.0,89.0,120.0,94.0,108.0,102.0,83.0,93.0,86.0,101.0,111.0,90.0,86.0,98.0,91.0,91.0,90.0,88.0,202.0,89.0,97.0,84.0,82.0,94.0,100.0,112.0,94.0,87.0,91.0,87.0,98.0,95.0,87.0,102.0,127.0,96.0,103.0,104.0,90.0,122.0,93.0,90.0,101.0,94.0,97.0,90.0,108.0,82.0,84.0,130.0,91.0,91.0,107.0,82.0,84.0,103.0,86.0,89.0,52.0,98.0,133.0,81.0,92.0,90.0,84.0,91.0,91.0,90.0,96.0,60.0,88.0,92.0,97.0,82.0,22.0,101.0,80.0,97.0,84.0,97.0,91.0,123.0,86.0,100.0,96.0,89.0,84.0,88.0,90.0,90.0,43.0,98.0,101.0,96.0,83.0,65.0,94.0,112.0,102.0,98.0,91.0,80.0,114.0,76.0,80.0,88.0,110.0,104.0,102.0,95.0,94.0,109.0,90.0,133.0,110.0,80.0,95.0,94.0,98.0,98.0,96.0,97.0,90.0,113.0,91.0,90.0,98.0,94.0,96.0,100.0,90.0,90.0,76.0,75.0,78.0,90.0,96.0,92.0,75.0,99.0,58.0,86.0,92.0,101.0,81.0,93.0,95.0,107.0,98.0,35.0,108.0,66.0,95.0,99.0,108.0,90.0,151.0,83.0,108.0,92.0,105.0,86.0,106.0,93.0,80.0,127.0,93.0,96.0,99.0,66.0,85.0,101.0,97.0,119.0,103.0,86.0,106.0,90.0,95.0,94.0,84.0,89.0,59.0,126.0,86.0,87.0,106.0,86.0,89.0,105.0,93.0,94.0,89.0,97.0,88.0,78.0,104.0,92.0,108.0,97.0,109.0,78.0,85.0,88.0,93.0,86.0,98.0,88.0,25.0,72.0,66.0,80.0,91.0,93.0,89.0,85.0,62.0,90.0,90.0,null,88.0,88.0,96.0,94.0,120.0,77.0,111.0,81.0,89.0,110.0,81.0,100.0,99.0,90.0,82.0,88.0,103.0,80.0,68.0,81.0,106.0,77.0,114.0,80.0,84.0,86.0,87.0,80.0,100.0,82.0,82.0,70.0,75.0,87.0,87.0,98.0,83.0,99.0,98.0,93.0,null,111.0,47.0,92.0,97.0,81.0,83.0,96.0,90.0,90.0,95.0,83.0,117.0,75.0,79.0,78.0,109.0,89.0,93.0,102.0,65.0,85.0,97.0,109.0,79.0,80.0,100.0,90.0,90.0,120.0,91.0,143.0,85.0,60.0,88.0,78.0,108.0,110.0,90.0,83.0,111.0,84.0,82.0,98.0,77.0,80.0,81.0,84.0,95.0,87.0,43.0,76.0,100.0,90.0],\"xaxis\":\"x\",\"yaxis\":\"y\",\"type\":\"histogram\"}],                        {\"template\":{\"data\":{\"bar\":[{\"error_x\":{\"color\":\"#2a3f5f\"},\"error_y\":{\"color\":\"#2a3f5f\"},\"marker\":{\"line\":{\"color\":\"#E5ECF6\",\"width\":0.5},\"pattern\":{\"fillmode\":\"overlay\",\"size\":10,\"solidity\":0.2}},\"type\":\"bar\"}],\"barpolar\":[{\"marker\":{\"line\":{\"color\":\"#E5ECF6\",\"width\":0.5},\"pattern\":{\"fillmode\":\"overlay\",\"size\":10,\"solidity\":0.2}},\"type\":\"barpolar\"}],\"carpet\":[{\"aaxis\":{\"endlinecolor\":\"#2a3f5f\",\"gridcolor\":\"white\",\"linecolor\":\"white\",\"minorgridcolor\":\"white\",\"startlinecolor\":\"#2a3f5f\"},\"baxis\":{\"endlinecolor\":\"#2a3f5f\",\"gridcolor\":\"white\",\"linecolor\":\"white\",\"minorgridcolor\":\"white\",\"startlinecolor\":\"#2a3f5f\"},\"type\":\"carpet\"}],\"choropleth\":[{\"colorbar\":{\"outlinewidth\":0,\"ticks\":\"\"},\"type\":\"choropleth\"}],\"contour\":[{\"colorbar\":{\"outlinewidth\":0,\"ticks\":\"\"},\"colorscale\":[[0.0,\"#0d0887\"],[0.1111111111111111,\"#46039f\"],[0.2222222222222222,\"#7201a8\"],[0.3333333333333333,\"#9c179e\"],[0.4444444444444444,\"#bd3786\"],[0.5555555555555556,\"#d8576b\"],[0.6666666666666666,\"#ed7953\"],[0.7777777777777778,\"#fb9f3a\"],[0.8888888888888888,\"#fdca26\"],[1.0,\"#f0f921\"]],\"type\":\"contour\"}],\"contourcarpet\":[{\"colorbar\":{\"outlinewidth\":0,\"ticks\":\"\"},\"type\":\"contourcarpet\"}],\"heatmap\":[{\"colorbar\":{\"outlinewidth\":0,\"ticks\":\"\"},\"colorscale\":[[0.0,\"#0d0887\"],[0.1111111111111111,\"#46039f\"],[0.2222222222222222,\"#7201a8\"],[0.3333333333333333,\"#9c179e\"],[0.4444444444444444,\"#bd3786\"],[0.5555555555555556,\"#d8576b\"],[0.6666666666666666,\"#ed7953\"],[0.7777777777777778,\"#fb9f3a\"],[0.8888888888888888,\"#fdca26\"],[1.0,\"#f0f921\"]],\"type\":\"heatmap\"}],\"heatmapgl\":[{\"colorbar\":{\"outlinewidth\":0,\"ticks\":\"\"},\"colorscale\":[[0.0,\"#0d0887\"],[0.1111111111111111,\"#46039f\"],[0.2222222222222222,\"#7201a8\"],[0.3333333333333333,\"#9c179e\"],[0.4444444444444444,\"#bd3786\"],[0.5555555555555556,\"#d8576b\"],[0.6666666666666666,\"#ed7953\"],[0.7777777777777778,\"#fb9f3a\"],[0.8888888888888888,\"#fdca26\"],[1.0,\"#f0f921\"]],\"type\":\"heatmapgl\"}],\"histogram\":[{\"marker\":{\"pattern\":{\"fillmode\":\"overlay\",\"size\":10,\"solidity\":0.2}},\"type\":\"histogram\"}],\"histogram2d\":[{\"colorbar\":{\"outlinewidth\":0,\"ticks\":\"\"},\"colorscale\":[[0.0,\"#0d0887\"],[0.1111111111111111,\"#46039f\"],[0.2222222222222222,\"#7201a8\"],[0.3333333333333333,\"#9c179e\"],[0.4444444444444444,\"#bd3786\"],[0.5555555555555556,\"#d8576b\"],[0.6666666666666666,\"#ed7953\"],[0.7777777777777778,\"#fb9f3a\"],[0.8888888888888888,\"#fdca26\"],[1.0,\"#f0f921\"]],\"type\":\"histogram2d\"}],\"histogram2dcontour\":[{\"colorbar\":{\"outlinewidth\":0,\"ticks\":\"\"},\"colorscale\":[[0.0,\"#0d0887\"],[0.1111111111111111,\"#46039f\"],[0.2222222222222222,\"#7201a8\"],[0.3333333333333333,\"#9c179e\"],[0.4444444444444444,\"#bd3786\"],[0.5555555555555556,\"#d8576b\"],[0.6666666666666666,\"#ed7953\"],[0.7777777777777778,\"#fb9f3a\"],[0.8888888888888888,\"#fdca26\"],[1.0,\"#f0f921\"]],\"type\":\"histogram2dcontour\"}],\"mesh3d\":[{\"colorbar\":{\"outlinewidth\":0,\"ticks\":\"\"},\"type\":\"mesh3d\"}],\"parcoords\":[{\"line\":{\"colorbar\":{\"outlinewidth\":0,\"ticks\":\"\"}},\"type\":\"parcoords\"}],\"pie\":[{\"automargin\":true,\"type\":\"pie\"}],\"scatter\":[{\"marker\":{\"colorbar\":{\"outlinewidth\":0,\"ticks\":\"\"}},\"type\":\"scatter\"}],\"scatter3d\":[{\"line\":{\"colorbar\":{\"outlinewidth\":0,\"ticks\":\"\"}},\"marker\":{\"colorbar\":{\"outlinewidth\":0,\"ticks\":\"\"}},\"type\":\"scatter3d\"}],\"scattercarpet\":[{\"marker\":{\"colorbar\":{\"outlinewidth\":0,\"ticks\":\"\"}},\"type\":\"scattercarpet\"}],\"scattergeo\":[{\"marker\":{\"colorbar\":{\"outlinewidth\":0,\"ticks\":\"\"}},\"type\":\"scattergeo\"}],\"scattergl\":[{\"marker\":{\"colorbar\":{\"outlinewidth\":0,\"ticks\":\"\"}},\"type\":\"scattergl\"}],\"scattermapbox\":[{\"marker\":{\"colorbar\":{\"outlinewidth\":0,\"ticks\":\"\"}},\"type\":\"scattermapbox\"}],\"scatterpolar\":[{\"marker\":{\"colorbar\":{\"outlinewidth\":0,\"ticks\":\"\"}},\"type\":\"scatterpolar\"}],\"scatterpolargl\":[{\"marker\":{\"colorbar\":{\"outlinewidth\":0,\"ticks\":\"\"}},\"type\":\"scatterpolargl\"}],\"scatterternary\":[{\"marker\":{\"colorbar\":{\"outlinewidth\":0,\"ticks\":\"\"}},\"type\":\"scatterternary\"}],\"surface\":[{\"colorbar\":{\"outlinewidth\":0,\"ticks\":\"\"},\"colorscale\":[[0.0,\"#0d0887\"],[0.1111111111111111,\"#46039f\"],[0.2222222222222222,\"#7201a8\"],[0.3333333333333333,\"#9c179e\"],[0.4444444444444444,\"#bd3786\"],[0.5555555555555556,\"#d8576b\"],[0.6666666666666666,\"#ed7953\"],[0.7777777777777778,\"#fb9f3a\"],[0.8888888888888888,\"#fdca26\"],[1.0,\"#f0f921\"]],\"type\":\"surface\"}],\"table\":[{\"cells\":{\"fill\":{\"color\":\"#EBF0F8\"},\"line\":{\"color\":\"white\"}},\"header\":{\"fill\":{\"color\":\"#C8D4E3\"},\"line\":{\"color\":\"white\"}},\"type\":\"table\"}]},\"layout\":{\"annotationdefaults\":{\"arrowcolor\":\"#2a3f5f\",\"arrowhead\":0,\"arrowwidth\":1},\"autotypenumbers\":\"strict\",\"coloraxis\":{\"colorbar\":{\"outlinewidth\":0,\"ticks\":\"\"}},\"colorscale\":{\"diverging\":[[0,\"#8e0152\"],[0.1,\"#c51b7d\"],[0.2,\"#de77ae\"],[0.3,\"#f1b6da\"],[0.4,\"#fde0ef\"],[0.5,\"#f7f7f7\"],[0.6,\"#e6f5d0\"],[0.7,\"#b8e186\"],[0.8,\"#7fbc41\"],[0.9,\"#4d9221\"],[1,\"#276419\"]],\"sequential\":[[0.0,\"#0d0887\"],[0.1111111111111111,\"#46039f\"],[0.2222222222222222,\"#7201a8\"],[0.3333333333333333,\"#9c179e\"],[0.4444444444444444,\"#bd3786\"],[0.5555555555555556,\"#d8576b\"],[0.6666666666666666,\"#ed7953\"],[0.7777777777777778,\"#fb9f3a\"],[0.8888888888888888,\"#fdca26\"],[1.0,\"#f0f921\"]],\"sequentialminus\":[[0.0,\"#0d0887\"],[0.1111111111111111,\"#46039f\"],[0.2222222222222222,\"#7201a8\"],[0.3333333333333333,\"#9c179e\"],[0.4444444444444444,\"#bd3786\"],[0.5555555555555556,\"#d8576b\"],[0.6666666666666666,\"#ed7953\"],[0.7777777777777778,\"#fb9f3a\"],[0.8888888888888888,\"#fdca26\"],[1.0,\"#f0f921\"]]},\"colorway\":[\"#636efa\",\"#EF553B\",\"#00cc96\",\"#ab63fa\",\"#FFA15A\",\"#19d3f3\",\"#FF6692\",\"#B6E880\",\"#FF97FF\",\"#FECB52\"],\"font\":{\"color\":\"#2a3f5f\"},\"geo\":{\"bgcolor\":\"white\",\"lakecolor\":\"white\",\"landcolor\":\"#E5ECF6\",\"showlakes\":true,\"showland\":true,\"subunitcolor\":\"white\"},\"hoverlabel\":{\"align\":\"left\"},\"hovermode\":\"closest\",\"mapbox\":{\"style\":\"light\"},\"paper_bgcolor\":\"white\",\"plot_bgcolor\":\"#E5ECF6\",\"polar\":{\"angularaxis\":{\"gridcolor\":\"white\",\"linecolor\":\"white\",\"ticks\":\"\"},\"bgcolor\":\"#E5ECF6\",\"radialaxis\":{\"gridcolor\":\"white\",\"linecolor\":\"white\",\"ticks\":\"\"}},\"scene\":{\"xaxis\":{\"backgroundcolor\":\"#E5ECF6\",\"gridcolor\":\"white\",\"gridwidth\":2,\"linecolor\":\"white\",\"showbackground\":true,\"ticks\":\"\",\"zerolinecolor\":\"white\"},\"yaxis\":{\"backgroundcolor\":\"#E5ECF6\",\"gridcolor\":\"white\",\"gridwidth\":2,\"linecolor\":\"white\",\"showbackground\":true,\"ticks\":\"\",\"zerolinecolor\":\"white\"},\"zaxis\":{\"backgroundcolor\":\"#E5ECF6\",\"gridcolor\":\"white\",\"gridwidth\":2,\"linecolor\":\"white\",\"showbackground\":true,\"ticks\":\"\",\"zerolinecolor\":\"white\"}},\"shapedefaults\":{\"line\":{\"color\":\"#2a3f5f\"}},\"ternary\":{\"aaxis\":{\"gridcolor\":\"white\",\"linecolor\":\"white\",\"ticks\":\"\"},\"baxis\":{\"gridcolor\":\"white\",\"linecolor\":\"white\",\"ticks\":\"\"},\"bgcolor\":\"#E5ECF6\",\"caxis\":{\"gridcolor\":\"white\",\"linecolor\":\"white\",\"ticks\":\"\"}},\"title\":{\"x\":0.05},\"xaxis\":{\"automargin\":true,\"gridcolor\":\"white\",\"linecolor\":\"white\",\"ticks\":\"\",\"title\":{\"standoff\":15},\"zerolinecolor\":\"white\",\"zerolinewidth\":2},\"yaxis\":{\"automargin\":true,\"gridcolor\":\"white\",\"linecolor\":\"white\",\"ticks\":\"\",\"title\":{\"standoff\":15},\"zerolinecolor\":\"white\",\"zerolinewidth\":2}}},\"xaxis\":{\"anchor\":\"y\",\"domain\":[0.0,1.0],\"title\":{\"text\":\"Time [mins] \"}},\"yaxis\":{\"anchor\":\"x\",\"domain\":[0.0,1.0],\"title\":{\"text\":\"count\"}},\"legend\":{\"tracegroupgap\":0},\"margin\":{\"t\":60},\"barmode\":\"relative\"},                        {\"responsive\": true}                    ).then(function(){\n",
              "                            \n",
              "var gd = document.getElementById('3ab5f857-536a-423e-8eb0-411622cafdc3');\n",
              "var x = new MutationObserver(function (mutations, observer) {{\n",
              "        var display = window.getComputedStyle(gd).display;\n",
              "        if (!display || display === 'none') {{\n",
              "            console.log([gd, 'removed!']);\n",
              "            Plotly.purge(gd);\n",
              "            observer.disconnect();\n",
              "        }}\n",
              "}});\n",
              "\n",
              "// Listen for the removal of the full notebook cells\n",
              "var notebookContainer = gd.closest('#notebook-container');\n",
              "if (notebookContainer) {{\n",
              "    x.observe(notebookContainer, {childList: true});\n",
              "}}\n",
              "\n",
              "// Listen for the clearing of the current output cell\n",
              "var outputEl = gd.closest('.output');\n",
              "if (outputEl) {{\n",
              "    x.observe(outputEl, {childList: true});\n",
              "}}\n",
              "\n",
              "                        })                };                            </script>        </div>\n",
              "</body>\n",
              "</html>"
            ]
          },
          "metadata": {}
        }
      ]
    },
    {
      "cell_type": "markdown",
      "source": [
        "Ejercicio: Cree un histograma para ver la distribución de la columna _imdb_score_\n"
      ],
      "metadata": {
        "id": "6sZek9dm7Elz"
      }
    },
    {
      "cell_type": "code",
      "source": [
        "#Código del ejercicio"
      ],
      "metadata": {
        "id": "esfGiaJl7mHu"
      },
      "execution_count": null,
      "outputs": []
    },
    {
      "cell_type": "markdown",
      "source": [
        "Puede hacer consultas con respecto a alguna variable. Por ejemplo, filtre las película que tengan un _imdb_score_ menor que 4"
      ],
      "metadata": {
        "id": "Px3rt5kjA9Hw"
      }
    },
    {
      "cell_type": "code",
      "source": [
        "df['imdb_score'] < 4\n",
        "#df.imdb_score < 4 #Esta línea hace lo mismo"
      ],
      "metadata": {
        "id": "hJmEvxZyBOkC"
      },
      "execution_count": null,
      "outputs": []
    },
    {
      "cell_type": "markdown",
      "source": [
        "El resultado es un arreglo unidimensional de pandas de tipo _series_ (similar a un _dataframe_ pero con una sola columna) que va a tomar el valor ```True``` en las filas en las que la condición se cumple y ````False``` en las demás filas. Este nuevo arreglo se puede almacenar en una nueva variable o se puede utilizar para indexar el _dataframe_. En este caso, creará un nuevo _dataframe_ con nombre _df_low_score_ que tendrá todas las columnas de _df_ pero únicamente las filas que cumplen con la condición.  "
      ],
      "metadata": {
        "id": "cepLj08gBbqH"
      }
    },
    {
      "cell_type": "code",
      "source": [
        "index = df['imdb_score'] < 4\n",
        "df_low_score = df[index]\n",
        "df_low_score"
      ],
      "metadata": {
        "id": "SFkAd35NCOkp"
      },
      "execution_count": null,
      "outputs": []
    },
    {
      "cell_type": "code",
      "source": [
        "#esta celda es una forma diferente de hacer lo mismo\n",
        "df_low_score = df[df['imdb_score'] < 4]\n",
        "df_low_score"
      ],
      "metadata": {
        "id": "MPyw4-UNCcnD"
      },
      "execution_count": null,
      "outputs": []
    },
    {
      "cell_type": "markdown",
      "source": [
        "Revise que en verdad las películas en este nuevo _dataframe_ tengan un _imdb_score_ menor a 4"
      ],
      "metadata": {
        "id": "5OjQ-6TxCayT"
      }
    },
    {
      "cell_type": "code",
      "source": [
        "df_low_score.loc[:,['movie_title','imdb_score']]"
      ],
      "metadata": {
        "id": "X0qpi5tzDkDF"
      },
      "execution_count": null,
      "outputs": []
    },
    {
      "cell_type": "markdown",
      "source": [
        "Ejercicio: Revise la distribución de la columna _imdb_score_ de las películas producidas en USA utilizando histogramas. Si es necesario, cree _dataframes_ que le ayuden a resolver la tarea."
      ],
      "metadata": {
        "id": "oZTFEM9JEWou"
      }
    },
    {
      "cell_type": "code",
      "source": [
        "#Código del ejercicio"
      ],
      "metadata": {
        "id": "F9Q-4LJhE1Z5"
      },
      "execution_count": null,
      "outputs": []
    }
  ]
}